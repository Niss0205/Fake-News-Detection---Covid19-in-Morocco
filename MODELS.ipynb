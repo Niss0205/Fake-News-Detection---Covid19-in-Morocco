{
  "nbformat": 4,
  "nbformat_minor": 0,
  "metadata": {
    "kernelspec": {
      "display_name": "Python 3",
      "language": "python",
      "name": "python3"
    },
    "language_info": {
      "codemirror_mode": {
        "name": "ipython",
        "version": 3
      },
      "file_extension": ".py",
      "mimetype": "text/x-python",
      "name": "python",
      "nbconvert_exporter": "python",
      "pygments_lexer": "ipython3",
      "version": "3.8.5"
    },
    "varInspector": {
      "cols": {
        "lenName": 16,
        "lenType": 16,
        "lenVar": 40
      },
      "kernels_config": {
        "python": {
          "delete_cmd_postfix": "",
          "delete_cmd_prefix": "del ",
          "library": "var_list.py",
          "varRefreshCmd": "print(var_dic_list())"
        },
        "r": {
          "delete_cmd_postfix": ") ",
          "delete_cmd_prefix": "rm(",
          "library": "var_list.r",
          "varRefreshCmd": "cat(var_dic_list()) "
        }
      },
      "types_to_exclude": [
        "module",
        "function",
        "builtin_function_or_method",
        "instance",
        "_Feature"
      ],
      "window_display": false
    },
    "colab": {
      "name": "MODEL.ipynb",
      "provenance": []
    }
  },
  "cells": [
    {
      "cell_type": "code",
      "metadata": {
        "id": "vowsjcqHqp3l"
      },
      "source": [
        "#importing the basic librairies\n",
        "# Import Dependencies\n",
        "%matplotlib inline\n",
        "\n",
        "# Start Python Imports\n",
        "import math, time, random, datetime\n",
        "\n",
        "# Data Manipulation\n",
        "import numpy as np\n",
        "import pandas as pd\n",
        "import scipy\n",
        "#import unidecode\n",
        "# Visualization \n",
        "import matplotlib.pyplot as plt\n",
        "from sklearn.model_selection import cross_val_score\n",
        "import missingno #missing values , deal with text\n",
        "import seaborn as sns\n",
        "plt.style.use('seaborn-whitegrid')\n",
        "\n",
        "import neattext.functions as nfx\n",
        "\n",
        "import wordcloud\n",
        "\n",
        "# Preprocessing\n",
        "from sklearn.preprocessing import OneHotEncoder, LabelEncoder, label_binarize\n",
        "\n",
        "#Matrix\n",
        "from sklearn.feature_extraction.text import CountVectorizer, TfidfVectorizer, HashingVectorizer\n",
        "import itertools\n",
        "\n",
        "from sklearn.model_selection import train_test_split\n",
        "from sklearn import model_selection, tree, preprocessing, metrics, linear_model\n",
        "from sklearn.neighbors import KNeighborsClassifier\n",
        "from sklearn.naive_bayes import MultinomialNB\n",
        "from sklearn.discriminant_analysis import LinearDiscriminantAnalysis\n",
        "from sklearn.linear_model import LogisticRegression\n",
        "import re\n",
        "import string\n",
        "from sklearn.metrics import classification_report\n",
        "from sklearn.linear_model import PassiveAggressiveClassifier\n",
        "from sklearn.metrics import accuracy_score, confusion_matrix\n",
        "# Let's be rebels and ignore warnings for now\n",
        "import warnings\n",
        "warnings.filterwarnings('ignore')"
      ],
      "execution_count": null,
      "outputs": []
    },
    {
      "cell_type": "markdown",
      "metadata": {
        "id": "C3rjAFlfqp3x"
      },
      "source": [
        "### EDA"
      ]
    },
    {
      "cell_type": "code",
      "metadata": {
        "id": "fE2xmHQEqp3z"
      },
      "source": [
        "df=pd.read_csv(\"Constraint_English_Train.csv\")"
      ],
      "execution_count": null,
      "outputs": []
    },
    {
      "cell_type": "code",
      "metadata": {
        "id": "Ga7aK0wKqp31"
      },
      "source": [
        "def plot_confusion_matrix(cm, classes,\n",
        "                          normalize=False,\n",
        "                          title='Confusion matrix',\n",
        "                          cmap=plt.cm.YlOrBr):\n",
        "    \"\"\"\n",
        "    See full source and example: \n",
        "    http://scikit-learn.org/stable/auto_examples/model_selection/plot_confusion_matrix.html\n",
        "    \n",
        "    This function prints and plots the confusion matrix.\n",
        "    Normalization can be applied by setting `normalize=True`.\n",
        "    \"\"\"\n",
        "    plt.imshow(cm, interpolation='nearest', cmap=cmap)\n",
        "    plt.title(title)\n",
        "    plt.colorbar()\n",
        "    tick_marks = np.arange(len(classes))\n",
        "    plt.xticks(tick_marks, classes, rotation=45)\n",
        "    plt.yticks(tick_marks, classes)\n",
        "\n",
        "    if normalize:\n",
        "        cm = cm.astype('float') / cm.sum(axis=1)[:, np.newaxis]\n",
        "        print(\"Normalized confusion matrix\")\n",
        "    else:\n",
        "        print('Confusion matrix, without normalization')\n",
        "\n",
        "    thresh = cm.max() / 2.\n",
        "    for i, j in itertools.product(range(cm.shape[0]), range(cm.shape[1])):\n",
        "        plt.text(j, i, cm[i, j],\n",
        "                 horizontalalignment=\"center\",\n",
        "                 color=\"white\" if cm[i, j] > thresh else \"black\")\n",
        "\n",
        "    plt.tight_layout()\n",
        "    plt.ylabel('True label')\n",
        "    plt.xlabel('Predicted label')"
      ],
      "execution_count": null,
      "outputs": []
    },
    {
      "cell_type": "code",
      "metadata": {
        "id": "88adYnyqqp33",
        "outputId": "7d7a0098-5d34-4a2b-bd95-c7c8d69e09fb"
      },
      "source": [
        "df.head(7)"
      ],
      "execution_count": null,
      "outputs": [
        {
          "data": {
            "text/html": [
              "<div>\n",
              "<style scoped>\n",
              "    .dataframe tbody tr th:only-of-type {\n",
              "        vertical-align: middle;\n",
              "    }\n",
              "\n",
              "    .dataframe tbody tr th {\n",
              "        vertical-align: top;\n",
              "    }\n",
              "\n",
              "    .dataframe thead th {\n",
              "        text-align: right;\n",
              "    }\n",
              "</style>\n",
              "<table border=\"1\" class=\"dataframe\">\n",
              "  <thead>\n",
              "    <tr style=\"text-align: right;\">\n",
              "      <th></th>\n",
              "      <th>id</th>\n",
              "      <th>tweet</th>\n",
              "      <th>label</th>\n",
              "    </tr>\n",
              "  </thead>\n",
              "  <tbody>\n",
              "    <tr>\n",
              "      <th>0</th>\n",
              "      <td>1</td>\n",
              "      <td>The CDC currently reports 99031 deaths. In gen...</td>\n",
              "      <td>real</td>\n",
              "    </tr>\n",
              "    <tr>\n",
              "      <th>1</th>\n",
              "      <td>2</td>\n",
              "      <td>States reported 1121 deaths a small rise from ...</td>\n",
              "      <td>real</td>\n",
              "    </tr>\n",
              "    <tr>\n",
              "      <th>2</th>\n",
              "      <td>3</td>\n",
              "      <td>Politically Correct Woman (Almost) Uses Pandem...</td>\n",
              "      <td>fake</td>\n",
              "    </tr>\n",
              "    <tr>\n",
              "      <th>3</th>\n",
              "      <td>4</td>\n",
              "      <td>#IndiaFightsCorona: We have 1524 #COVID testin...</td>\n",
              "      <td>real</td>\n",
              "    </tr>\n",
              "    <tr>\n",
              "      <th>4</th>\n",
              "      <td>5</td>\n",
              "      <td>Populous states can generate large case counts...</td>\n",
              "      <td>real</td>\n",
              "    </tr>\n",
              "    <tr>\n",
              "      <th>5</th>\n",
              "      <td>6</td>\n",
              "      <td>Covid Act Now found \"on average each person in...</td>\n",
              "      <td>real</td>\n",
              "    </tr>\n",
              "    <tr>\n",
              "      <th>6</th>\n",
              "      <td>7</td>\n",
              "      <td>If you tested positive for #COVID19 and have n...</td>\n",
              "      <td>real</td>\n",
              "    </tr>\n",
              "  </tbody>\n",
              "</table>\n",
              "</div>"
            ],
            "text/plain": [
              "   id                                              tweet label\n",
              "0   1  The CDC currently reports 99031 deaths. In gen...  real\n",
              "1   2  States reported 1121 deaths a small rise from ...  real\n",
              "2   3  Politically Correct Woman (Almost) Uses Pandem...  fake\n",
              "3   4  #IndiaFightsCorona: We have 1524 #COVID testin...  real\n",
              "4   5  Populous states can generate large case counts...  real\n",
              "5   6  Covid Act Now found \"on average each person in...  real\n",
              "6   7  If you tested positive for #COVID19 and have n...  real"
            ]
          },
          "execution_count": 4,
          "metadata": {},
          "output_type": "execute_result"
        }
      ]
    },
    {
      "cell_type": "code",
      "metadata": {
        "id": "Mv9KptQ7qp36",
        "outputId": "420590dc-447f-4577-b6bf-796d6cc88289"
      },
      "source": [
        "df.shape"
      ],
      "execution_count": null,
      "outputs": [
        {
          "data": {
            "text/plain": [
              "(6420, 3)"
            ]
          },
          "execution_count": 5,
          "metadata": {},
          "output_type": "execute_result"
        }
      ]
    },
    {
      "cell_type": "code",
      "metadata": {
        "id": "73BPkwJzqp38",
        "outputId": "20d3f021-9563-449b-cd1f-a4c42f27f9fe"
      },
      "source": [
        "df.columns"
      ],
      "execution_count": null,
      "outputs": [
        {
          "data": {
            "text/plain": [
              "Index(['id', 'tweet', 'label'], dtype='object')"
            ]
          },
          "execution_count": 6,
          "metadata": {},
          "output_type": "execute_result"
        }
      ]
    },
    {
      "cell_type": "code",
      "metadata": {
        "id": "X55nqy0Mqp39"
      },
      "source": [
        "df=df.drop(['id'],axis=1)"
      ],
      "execution_count": null,
      "outputs": []
    },
    {
      "cell_type": "code",
      "metadata": {
        "id": "TNP7VqDUqp3_",
        "outputId": "12624d86-20ee-429a-d2ca-8bc0e258766a"
      },
      "source": [
        "df.head(7)"
      ],
      "execution_count": null,
      "outputs": [
        {
          "data": {
            "text/html": [
              "<div>\n",
              "<style scoped>\n",
              "    .dataframe tbody tr th:only-of-type {\n",
              "        vertical-align: middle;\n",
              "    }\n",
              "\n",
              "    .dataframe tbody tr th {\n",
              "        vertical-align: top;\n",
              "    }\n",
              "\n",
              "    .dataframe thead th {\n",
              "        text-align: right;\n",
              "    }\n",
              "</style>\n",
              "<table border=\"1\" class=\"dataframe\">\n",
              "  <thead>\n",
              "    <tr style=\"text-align: right;\">\n",
              "      <th></th>\n",
              "      <th>tweet</th>\n",
              "      <th>label</th>\n",
              "    </tr>\n",
              "  </thead>\n",
              "  <tbody>\n",
              "    <tr>\n",
              "      <th>0</th>\n",
              "      <td>The CDC currently reports 99031 deaths. In gen...</td>\n",
              "      <td>real</td>\n",
              "    </tr>\n",
              "    <tr>\n",
              "      <th>1</th>\n",
              "      <td>States reported 1121 deaths a small rise from ...</td>\n",
              "      <td>real</td>\n",
              "    </tr>\n",
              "    <tr>\n",
              "      <th>2</th>\n",
              "      <td>Politically Correct Woman (Almost) Uses Pandem...</td>\n",
              "      <td>fake</td>\n",
              "    </tr>\n",
              "    <tr>\n",
              "      <th>3</th>\n",
              "      <td>#IndiaFightsCorona: We have 1524 #COVID testin...</td>\n",
              "      <td>real</td>\n",
              "    </tr>\n",
              "    <tr>\n",
              "      <th>4</th>\n",
              "      <td>Populous states can generate large case counts...</td>\n",
              "      <td>real</td>\n",
              "    </tr>\n",
              "    <tr>\n",
              "      <th>5</th>\n",
              "      <td>Covid Act Now found \"on average each person in...</td>\n",
              "      <td>real</td>\n",
              "    </tr>\n",
              "    <tr>\n",
              "      <th>6</th>\n",
              "      <td>If you tested positive for #COVID19 and have n...</td>\n",
              "      <td>real</td>\n",
              "    </tr>\n",
              "  </tbody>\n",
              "</table>\n",
              "</div>"
            ],
            "text/plain": [
              "                                               tweet label\n",
              "0  The CDC currently reports 99031 deaths. In gen...  real\n",
              "1  States reported 1121 deaths a small rise from ...  real\n",
              "2  Politically Correct Woman (Almost) Uses Pandem...  fake\n",
              "3  #IndiaFightsCorona: We have 1524 #COVID testin...  real\n",
              "4  Populous states can generate large case counts...  real\n",
              "5  Covid Act Now found \"on average each person in...  real\n",
              "6  If you tested positive for #COVID19 and have n...  real"
            ]
          },
          "execution_count": 8,
          "metadata": {},
          "output_type": "execute_result"
        }
      ]
    },
    {
      "cell_type": "code",
      "metadata": {
        "id": "CHsudrDWqp4B",
        "outputId": "c0c6e7ce-f7f2-43e5-9b2b-d780f6f3d5bb"
      },
      "source": [
        "df[\"label\"].value_counts()"
      ],
      "execution_count": null,
      "outputs": [
        {
          "data": {
            "text/plain": [
              "real    3360\n",
              "fake    3060\n",
              "Name: label, dtype: int64"
            ]
          },
          "execution_count": 9,
          "metadata": {},
          "output_type": "execute_result"
        }
      ]
    },
    {
      "cell_type": "code",
      "metadata": {
        "id": "Sb8fPsD4qp4C"
      },
      "source": [
        "df1 = df.copy(deep=True)"
      ],
      "execution_count": null,
      "outputs": []
    },
    {
      "cell_type": "markdown",
      "metadata": {
        "id": "nCuSIgDVqp4D"
      },
      "source": [
        "## we put df1 as df with labels 'fake' 'reel' / df with dummy variables"
      ]
    },
    {
      "cell_type": "markdown",
      "metadata": {
        "id": "5oRJtK1kqp4E"
      },
      "source": [
        "### VIZUALIZATION"
      ]
    },
    {
      "cell_type": "markdown",
      "metadata": {
        "id": "6271RreQqp4F"
      },
      "source": [
        "#### DUMMY VARIABLES"
      ]
    },
    {
      "cell_type": "code",
      "metadata": {
        "id": "5GJWsm9hqp4F"
      },
      "source": [
        "#use map to code label : true as 1 / fake as 0\n",
        "df1['label'] = df1['label'].map({'real': 1,'fake': 0})"
      ],
      "execution_count": null,
      "outputs": []
    },
    {
      "cell_type": "code",
      "metadata": {
        "id": "8lst3kOAqp4G",
        "outputId": "cccda7b9-858e-4091-e623-234fc451e04a"
      },
      "source": [
        "df.head(7)"
      ],
      "execution_count": null,
      "outputs": [
        {
          "data": {
            "text/html": [
              "<div>\n",
              "<style scoped>\n",
              "    .dataframe tbody tr th:only-of-type {\n",
              "        vertical-align: middle;\n",
              "    }\n",
              "\n",
              "    .dataframe tbody tr th {\n",
              "        vertical-align: top;\n",
              "    }\n",
              "\n",
              "    .dataframe thead th {\n",
              "        text-align: right;\n",
              "    }\n",
              "</style>\n",
              "<table border=\"1\" class=\"dataframe\">\n",
              "  <thead>\n",
              "    <tr style=\"text-align: right;\">\n",
              "      <th></th>\n",
              "      <th>tweet</th>\n",
              "      <th>label</th>\n",
              "    </tr>\n",
              "  </thead>\n",
              "  <tbody>\n",
              "    <tr>\n",
              "      <th>0</th>\n",
              "      <td>The CDC currently reports 99031 deaths. In gen...</td>\n",
              "      <td>real</td>\n",
              "    </tr>\n",
              "    <tr>\n",
              "      <th>1</th>\n",
              "      <td>States reported 1121 deaths a small rise from ...</td>\n",
              "      <td>real</td>\n",
              "    </tr>\n",
              "    <tr>\n",
              "      <th>2</th>\n",
              "      <td>Politically Correct Woman (Almost) Uses Pandem...</td>\n",
              "      <td>fake</td>\n",
              "    </tr>\n",
              "    <tr>\n",
              "      <th>3</th>\n",
              "      <td>#IndiaFightsCorona: We have 1524 #COVID testin...</td>\n",
              "      <td>real</td>\n",
              "    </tr>\n",
              "    <tr>\n",
              "      <th>4</th>\n",
              "      <td>Populous states can generate large case counts...</td>\n",
              "      <td>real</td>\n",
              "    </tr>\n",
              "    <tr>\n",
              "      <th>5</th>\n",
              "      <td>Covid Act Now found \"on average each person in...</td>\n",
              "      <td>real</td>\n",
              "    </tr>\n",
              "    <tr>\n",
              "      <th>6</th>\n",
              "      <td>If you tested positive for #COVID19 and have n...</td>\n",
              "      <td>real</td>\n",
              "    </tr>\n",
              "  </tbody>\n",
              "</table>\n",
              "</div>"
            ],
            "text/plain": [
              "                                               tweet label\n",
              "0  The CDC currently reports 99031 deaths. In gen...  real\n",
              "1  States reported 1121 deaths a small rise from ...  real\n",
              "2  Politically Correct Woman (Almost) Uses Pandem...  fake\n",
              "3  #IndiaFightsCorona: We have 1524 #COVID testin...  real\n",
              "4  Populous states can generate large case counts...  real\n",
              "5  Covid Act Now found \"on average each person in...  real\n",
              "6  If you tested positive for #COVID19 and have n...  real"
            ]
          },
          "execution_count": 12,
          "metadata": {},
          "output_type": "execute_result"
        }
      ]
    },
    {
      "cell_type": "code",
      "metadata": {
        "id": "8UUnlYYoqp4H",
        "outputId": "dca4bc9f-dcd0-4881-c38c-3f3466fc8782"
      },
      "source": [
        "df.isnull().sum()"
      ],
      "execution_count": null,
      "outputs": [
        {
          "data": {
            "text/plain": [
              "tweet    0\n",
              "label    0\n",
              "dtype: int64"
            ]
          },
          "execution_count": 13,
          "metadata": {},
          "output_type": "execute_result"
        }
      ]
    },
    {
      "cell_type": "code",
      "metadata": {
        "id": "Wm5R1ppTqp4I",
        "outputId": "48a16794-39cf-48a7-f375-bf2e483264d8"
      },
      "source": [
        "df1.isnull().sum()"
      ],
      "execution_count": null,
      "outputs": [
        {
          "data": {
            "text/plain": [
              "tweet    0\n",
              "label    0\n",
              "dtype: int64"
            ]
          },
          "execution_count": 14,
          "metadata": {},
          "output_type": "execute_result"
        }
      ]
    },
    {
      "cell_type": "markdown",
      "metadata": {
        "id": "P4sYX189qp4J"
      },
      "source": [
        "#### Creating a function to convert the text in lowercase, remove the extra space, special chr., ulr and links."
      ]
    },
    {
      "cell_type": "code",
      "metadata": {
        "id": "x2w05L04qp4J"
      },
      "source": [
        "def word_drop(text):\n",
        "    text = text.lower()\n",
        "    text = re.sub('\\[.*?\\]', '', text)\n",
        "    text = re.sub(\"\\\\W\",\" \",text) \n",
        "    text = re.sub('https?://\\S+|www\\.\\S+', '', text)\n",
        "    text = re.sub('<.*?>+', '', text)\n",
        "    text = re.sub('[%s]' % re.escape(string.punctuation), '', text)\n",
        "    text = re.sub('\\n', '', text)\n",
        "    text = re.sub('\\w*\\d\\w*', '', text)    \n",
        "    return text"
      ],
      "execution_count": null,
      "outputs": []
    },
    {
      "cell_type": "code",
      "metadata": {
        "id": "V3cPU-NHqp4K"
      },
      "source": [
        "import neattext.functions as nfx"
      ],
      "execution_count": null,
      "outputs": []
    },
    {
      "cell_type": "code",
      "metadata": {
        "id": "w-7BAoscqp4L",
        "outputId": "137c3583-68f6-47d8-89f0-d1a853eaafc6"
      },
      "source": [
        "#let's start first by cleaning the text of the hashtags\n",
        "#extract the hashtags within the text\n",
        "df['tweet'].apply(nfx.extract_hashtags)"
      ],
      "execution_count": null,
      "outputs": [
        {
          "data": {
            "text/plain": [
              "0                                                      []\n",
              "1                                                      []\n",
              "2                              [#coronavirus, #nashville]\n",
              "3       [#IndiaFightsCorona:, #COVID, #StaySafe, #Indi...\n",
              "4                                                      []\n",
              "                              ...                        \n",
              "6415                                                   []\n",
              "6416                                                   []\n",
              "6417                                                   []\n",
              "6418                                                   []\n",
              "6419                                                   []\n",
              "Name: tweet, Length: 6420, dtype: object"
            ]
          },
          "execution_count": 17,
          "metadata": {},
          "output_type": "execute_result"
        }
      ]
    },
    {
      "cell_type": "code",
      "metadata": {
        "id": "Tz5HuTJrqp4M",
        "outputId": "5ab37bee-e659-4b65-c610-ea563eb25cb2"
      },
      "source": [
        "df['tweet'].apply(nfx.remove_urls)"
      ],
      "execution_count": null,
      "outputs": [
        {
          "data": {
            "text/plain": [
              "0       The CDC currently reports 99031 deaths. In gen...\n",
              "1       States reported 1121 deaths a small rise from ...\n",
              "2       Politically Correct Woman (Almost) Uses Pandem...\n",
              "3       #IndiaFightsCorona: We have 1524 #COVID testin...\n",
              "4       Populous states can generate large case counts...\n",
              "                              ...                        \n",
              "6415    A tiger tested positive for COVID-19 please st...\n",
              "6416    ???Autopsies prove that COVID-19 is??� a blood...\n",
              "6417    _A post claims a COVID-19 vaccine has already ...\n",
              "6418    Aamir Khan Donate 250 Cr. In PM Relief Cares Fund\n",
              "6419    It has been 93 days since the last case of COV...\n",
              "Name: tweet, Length: 6420, dtype: object"
            ]
          },
          "execution_count": 18,
          "metadata": {},
          "output_type": "execute_result"
        }
      ]
    },
    {
      "cell_type": "code",
      "metadata": {
        "id": "hjmpMULQqp4N",
        "outputId": "9e94d9f9-0732-4d23-8e6e-e9f272a1bb3a"
      },
      "source": [
        "df['tweet'].apply(nfx.remove_puncts)"
      ],
      "execution_count": null,
      "outputs": [
        {
          "data": {
            "text/plain": [
              "0       The CDC currently reports 99031 deaths In gene...\n",
              "1       States reported 1121 deaths a small rise from ...\n",
              "2       Politically Correct Woman (Almost) Uses Pandem...\n",
              "3       #IndiaFightsCorona: We have 1524 #COVID testin...\n",
              "4       Populous states can generate large case counts...\n",
              "                              ...                        \n",
              "6415    A tiger tested positive for COVID19 please sta...\n",
              "6416    Autopsies prove that COVID19 is� a blood clot ...\n",
              "6417    A post claims a COVID19 vaccine has already be...\n",
              "6418     Aamir Khan Donate 250 Cr In PM Relief Cares Fund\n",
              "6419    It has been 93 days since the last case of COV...\n",
              "Name: tweet, Length: 6420, dtype: object"
            ]
          },
          "execution_count": 19,
          "metadata": {},
          "output_type": "execute_result"
        }
      ]
    },
    {
      "cell_type": "code",
      "metadata": {
        "id": "dAn4ny1Dqp4O",
        "outputId": "2b69beaa-1819-49b6-d834-ecaa895afd2c"
      },
      "source": [
        "df['tweet'].apply(nfx.remove_special_characters)"
      ],
      "execution_count": null,
      "outputs": [
        {
          "data": {
            "text/plain": [
              "0       The CDC currently reports 99031 deaths In gene...\n",
              "1       States reported 1121 deaths a small rise from ...\n",
              "2       Politically Correct Woman Almost Uses Pandemic...\n",
              "3       IndiaFightsCorona We have 1524 COVID testing l...\n",
              "4       Populous states can generate large case counts...\n",
              "                              ...                        \n",
              "6415    A tiger tested positive for COVID19 please sta...\n",
              "6416    Autopsies prove that COVID19 is a blood clot n...\n",
              "6417    A post claims a COVID19 vaccine has already be...\n",
              "6418     Aamir Khan Donate 250 Cr In PM Relief Cares Fund\n",
              "6419    It has been 93 days since the last case of COV...\n",
              "Name: tweet, Length: 6420, dtype: object"
            ]
          },
          "execution_count": 20,
          "metadata": {},
          "output_type": "execute_result"
        }
      ]
    },
    {
      "cell_type": "code",
      "metadata": {
        "id": "ZnVJJNumqp4P",
        "outputId": "2172ffd7-a307-4ca8-ec69-e9c56d9cf650"
      },
      "source": [
        "df['tweet'].apply(nfx.remove_numbers)"
      ],
      "execution_count": null,
      "outputs": [
        {
          "data": {
            "text/plain": [
              "0       The CDC currently reports  deaths. In general ...\n",
              "1       States reported  deaths a small rise from last...\n",
              "2       Politically Correct Woman (Almost) Uses Pandem...\n",
              "3       #IndiaFightsCorona: We have  #COVID testing la...\n",
              "4       Populous states can generate large case counts...\n",
              "                              ...                        \n",
              "6415    A tiger tested positive for COVID- please stay...\n",
              "6416    ???Autopsies prove that COVID- is??� a blood c...\n",
              "6417    _A post claims a COVID- vaccine has already be...\n",
              "6418       Aamir Khan Donate  Cr. In PM Relief Cares Fund\n",
              "6419    It has been  days since the last case of COVID...\n",
              "Name: tweet, Length: 6420, dtype: object"
            ]
          },
          "execution_count": 21,
          "metadata": {},
          "output_type": "execute_result"
        }
      ]
    },
    {
      "cell_type": "code",
      "metadata": {
        "id": "Q8JIUXLpqp4P"
      },
      "source": [
        "df[\"tweet\"] = df[\"tweet\"].apply(word_drop)"
      ],
      "execution_count": null,
      "outputs": []
    },
    {
      "cell_type": "code",
      "metadata": {
        "id": "58kzAyZMqp4Q"
      },
      "source": [
        "df1[\"tweet\"] = df1[\"tweet\"].apply(word_drop)"
      ],
      "execution_count": null,
      "outputs": []
    },
    {
      "cell_type": "code",
      "metadata": {
        "id": "qvXsddVwqp4Q",
        "outputId": "a1b3b0eb-c6ac-4f4f-f3a6-204a31a1c4f8"
      },
      "source": [
        "df.head(7)"
      ],
      "execution_count": null,
      "outputs": [
        {
          "data": {
            "text/html": [
              "<div>\n",
              "<style scoped>\n",
              "    .dataframe tbody tr th:only-of-type {\n",
              "        vertical-align: middle;\n",
              "    }\n",
              "\n",
              "    .dataframe tbody tr th {\n",
              "        vertical-align: top;\n",
              "    }\n",
              "\n",
              "    .dataframe thead th {\n",
              "        text-align: right;\n",
              "    }\n",
              "</style>\n",
              "<table border=\"1\" class=\"dataframe\">\n",
              "  <thead>\n",
              "    <tr style=\"text-align: right;\">\n",
              "      <th></th>\n",
              "      <th>tweet</th>\n",
              "      <th>label</th>\n",
              "    </tr>\n",
              "  </thead>\n",
              "  <tbody>\n",
              "    <tr>\n",
              "      <th>0</th>\n",
              "      <td>the cdc currently reports  deaths  in general ...</td>\n",
              "      <td>real</td>\n",
              "    </tr>\n",
              "    <tr>\n",
              "      <th>1</th>\n",
              "      <td>states reported  deaths a small rise from last...</td>\n",
              "      <td>real</td>\n",
              "    </tr>\n",
              "    <tr>\n",
              "      <th>2</th>\n",
              "      <td>politically correct woman  almost  uses pandem...</td>\n",
              "      <td>fake</td>\n",
              "    </tr>\n",
              "    <tr>\n",
              "      <th>3</th>\n",
              "      <td>indiafightscorona  we have   covid testing la...</td>\n",
              "      <td>real</td>\n",
              "    </tr>\n",
              "    <tr>\n",
              "      <th>4</th>\n",
              "      <td>populous states can generate large case counts...</td>\n",
              "      <td>real</td>\n",
              "    </tr>\n",
              "    <tr>\n",
              "      <th>5</th>\n",
              "      <td>covid act now found  on average each person in...</td>\n",
              "      <td>real</td>\n",
              "    </tr>\n",
              "    <tr>\n",
              "      <th>6</th>\n",
              "      <td>if you tested positive for   and have no sympt...</td>\n",
              "      <td>real</td>\n",
              "    </tr>\n",
              "  </tbody>\n",
              "</table>\n",
              "</div>"
            ],
            "text/plain": [
              "                                               tweet label\n",
              "0  the cdc currently reports  deaths  in general ...  real\n",
              "1  states reported  deaths a small rise from last...  real\n",
              "2  politically correct woman  almost  uses pandem...  fake\n",
              "3   indiafightscorona  we have   covid testing la...  real\n",
              "4  populous states can generate large case counts...  real\n",
              "5  covid act now found  on average each person in...  real\n",
              "6  if you tested positive for   and have no sympt...  real"
            ]
          },
          "execution_count": 24,
          "metadata": {},
          "output_type": "execute_result"
        }
      ]
    },
    {
      "cell_type": "code",
      "metadata": {
        "id": "-cE3mMX8qp4R",
        "outputId": "a014a9ed-7595-4210-f562-4b79785d2162"
      },
      "source": [
        "df1.head(7)"
      ],
      "execution_count": null,
      "outputs": [
        {
          "data": {
            "text/html": [
              "<div>\n",
              "<style scoped>\n",
              "    .dataframe tbody tr th:only-of-type {\n",
              "        vertical-align: middle;\n",
              "    }\n",
              "\n",
              "    .dataframe tbody tr th {\n",
              "        vertical-align: top;\n",
              "    }\n",
              "\n",
              "    .dataframe thead th {\n",
              "        text-align: right;\n",
              "    }\n",
              "</style>\n",
              "<table border=\"1\" class=\"dataframe\">\n",
              "  <thead>\n",
              "    <tr style=\"text-align: right;\">\n",
              "      <th></th>\n",
              "      <th>tweet</th>\n",
              "      <th>label</th>\n",
              "    </tr>\n",
              "  </thead>\n",
              "  <tbody>\n",
              "    <tr>\n",
              "      <th>0</th>\n",
              "      <td>the cdc currently reports  deaths  in general ...</td>\n",
              "      <td>1</td>\n",
              "    </tr>\n",
              "    <tr>\n",
              "      <th>1</th>\n",
              "      <td>states reported  deaths a small rise from last...</td>\n",
              "      <td>1</td>\n",
              "    </tr>\n",
              "    <tr>\n",
              "      <th>2</th>\n",
              "      <td>politically correct woman  almost  uses pandem...</td>\n",
              "      <td>0</td>\n",
              "    </tr>\n",
              "    <tr>\n",
              "      <th>3</th>\n",
              "      <td>indiafightscorona  we have   covid testing la...</td>\n",
              "      <td>1</td>\n",
              "    </tr>\n",
              "    <tr>\n",
              "      <th>4</th>\n",
              "      <td>populous states can generate large case counts...</td>\n",
              "      <td>1</td>\n",
              "    </tr>\n",
              "    <tr>\n",
              "      <th>5</th>\n",
              "      <td>covid act now found  on average each person in...</td>\n",
              "      <td>1</td>\n",
              "    </tr>\n",
              "    <tr>\n",
              "      <th>6</th>\n",
              "      <td>if you tested positive for   and have no sympt...</td>\n",
              "      <td>1</td>\n",
              "    </tr>\n",
              "  </tbody>\n",
              "</table>\n",
              "</div>"
            ],
            "text/plain": [
              "                                               tweet  label\n",
              "0  the cdc currently reports  deaths  in general ...      1\n",
              "1  states reported  deaths a small rise from last...      1\n",
              "2  politically correct woman  almost  uses pandem...      0\n",
              "3   indiafightscorona  we have   covid testing la...      1\n",
              "4  populous states can generate large case counts...      1\n",
              "5  covid act now found  on average each person in...      1\n",
              "6  if you tested positive for   and have no sympt...      1"
            ]
          },
          "execution_count": 25,
          "metadata": {},
          "output_type": "execute_result"
        }
      ]
    },
    {
      "cell_type": "markdown",
      "metadata": {
        "id": "TK4t0pkxqp4R"
      },
      "source": [
        "### Defining dependent and independent variable as x and y"
      ]
    },
    {
      "cell_type": "code",
      "metadata": {
        "id": "kTbhbaeBqp4S"
      },
      "source": [
        "x = df[\"tweet\"]\n",
        "y = df[\"label\"]"
      ],
      "execution_count": null,
      "outputs": []
    },
    {
      "cell_type": "code",
      "metadata": {
        "id": "m3Sh891Iqp4S"
      },
      "source": [
        "x1 = df1[\"tweet\"]\n",
        "y1 = df1[\"label\"]"
      ],
      "execution_count": null,
      "outputs": []
    },
    {
      "cell_type": "markdown",
      "metadata": {
        "id": "cZSjJepSqp4S"
      },
      "source": [
        "### Splitting the dataset into training set and testing set."
      ]
    },
    {
      "cell_type": "code",
      "metadata": {
        "id": "4_ulfWt7qp4T"
      },
      "source": [
        "# we put the test size at 25%\n",
        "x_train, x_test, y_train, y_test = train_test_split(x, y, test_size=0.25)"
      ],
      "execution_count": null,
      "outputs": []
    },
    {
      "cell_type": "markdown",
      "metadata": {
        "id": "fTScHZdjqp4T"
      },
      "source": [
        "### Convert text to vectors\n",
        "- MATRIX TF-IDF / count words"
      ]
    },
    {
      "cell_type": "markdown",
      "metadata": {
        "id": "OSaWeOihqp4U"
      },
      "source": [
        "=> First, we have built our baseline model with a count vectorizer. Count vectorizer converts the text document to a vector of token counts. "
      ]
    },
    {
      "cell_type": "code",
      "metadata": {
        "id": "Nbzoh8Auqp4U"
      },
      "source": [
        "count_vectorizer = CountVectorizer(stop_words='english')\n",
        "count_train = count_vectorizer.fit_transform(x_train)\n",
        "count_test = count_vectorizer.transform(x_test)"
      ],
      "execution_count": null,
      "outputs": []
    },
    {
      "cell_type": "code",
      "metadata": {
        "id": "yMWgLoSaqp4V",
        "outputId": "0c0a36d3-83cc-432d-acae-fc04462d605d"
      },
      "source": [
        "mnb = MultinomialNB()\n",
        "mnb.fit(count_train, y_train)\n",
        "pred = mnb.predict(count_test)\n",
        "score = metrics.accuracy_score(y_test, pred)\n",
        "print(\"accuracy:   %0.3f\" % score)\n",
        "cm = metrics.confusion_matrix(y_test, pred, labels=['real' , 'fake'])\n",
        "plot_confusion_matrix(cm, classes=['real', 'fake'])"
      ],
      "execution_count": null,
      "outputs": [
        {
          "name": "stdout",
          "output_type": "stream",
          "text": [
            "accuracy:   0.910\n",
            "Confusion matrix, without normalization\n"
          ]
        },
        {
          "data": {
            "image/png": "[encoded data removed]",
            "text/plain": [
              "<Figure size 432x288 with 2 Axes>"
            ]
          },
          "metadata": {},
          "output_type": "display_data"
        }
      ]
    },
    {
      "cell_type": "code",
      "metadata": {
        "id": "eOG-7dsqqp4V",
        "outputId": "ca527e07-725a-48d0-a417-c37e2a7925e0"
      },
      "source": [
        "LR = LogisticRegression()\n",
        "LR.fit(count_train, y_train)\n",
        "pred = LR.predict(count_test)\n",
        "score = metrics.accuracy_score(y_test, pred)\n",
        "print(\"accuracy:   %0.3f\" % score)\n",
        "cm = metrics.confusion_matrix(y_test, pred, labels=['real' , 'fake'])\n",
        "plot_confusion_matrix(cm, classes=['real', 'fake'])"
      ],
      "execution_count": null,
      "outputs": [
        {
          "name": "stdout",
          "output_type": "stream",
          "text": [
            "accuracy:   0.928\n",
            "Confusion matrix, without normalization\n"
          ]
        },
        {
          "data": {
            "image/png": "[encoded data removed]",
            "text/plain": [
              "<Figure size 432x288 with 2 Axes>"
            ]
          },
          "metadata": {},
          "output_type": "display_data"
        }
      ]
    },
    {
      "cell_type": "code",
      "metadata": {
        "id": "wcFdvq_Tqp4X",
        "outputId": "4a4cbdbd-e8fc-4477-a2bc-f99e108fd40b"
      },
      "source": [
        "pac = PassiveAggressiveClassifier()\n",
        "pac.fit(count_train, y_train)\n",
        "pred = pac.predict(count_test)\n",
        "score = metrics.accuracy_score(y_test, pred)\n",
        "print(\"accuracy:   %0.3f\" % score)\n",
        "cm = metrics.confusion_matrix(y_test, pred, labels=['real' , 'fake'])\n",
        "plot_confusion_matrix(cm, classes=['real', 'fake'])"
      ],
      "execution_count": null,
      "outputs": [
        {
          "name": "stdout",
          "output_type": "stream",
          "text": [
            "accuracy:   0.920\n",
            "Confusion matrix, without normalization\n"
          ]
        },
        {
          "data": {
            "image/png": "[encoded data removed]",
            "text/plain": [
              "<Figure size 432x288 with 2 Axes>"
            ]
          },
          "metadata": {},
          "output_type": "display_data"
        }
      ]
    },
    {
      "cell_type": "markdown",
      "metadata": {
        "id": "4kkQly76qp4X"
      },
      "source": [
        "- To improve the performance of our machine learning algorithms we have used the TFIDF vectorizer. TFIDF vectorizer converts the text document into a matrix of TFIDF features. \n",
        "- Now let’s talk about its hyper-parameter first one is stopwords which is defined for making aware that stopwords used in the text are of English language, max_df is used for removing terms that appear too frequently, In our case, we have taken its value as 0.8 which means remove those words which appear in more than 80% of the documents and the last hyper-parameter is ngram_range which is set as (1,2) i.e., it will allow both unigrams and bigrams."
      ]
    },
    {
      "cell_type": "code",
      "metadata": {
        "id": "6RNeudFFqp4Y"
      },
      "source": [
        "tfidf_vectorizer = TfidfVectorizer(stop_words='english', max_df=0.8, ngram_range=(1,2))\n",
        "tfidf_train_2 = tfidf_vectorizer.fit_transform(x_train)\n",
        "tfidf_test_2 = tfidf_vectorizer.transform(x_test)"
      ],
      "execution_count": null,
      "outputs": []
    },
    {
      "cell_type": "code",
      "metadata": {
        "id": "QcZVOcVSqp4Z",
        "outputId": "b2ba14ff-2e51-4822-fb6a-6c0b37bbf327"
      },
      "source": [
        "mnb_tf = MultinomialNB()\n",
        "mnb_tf.fit(tfidf_train_2, y_train)\n",
        "pred = mnb_tf.predict(tfidf_test_2)\n",
        "score = metrics.accuracy_score(y_test, pred)\n",
        "print(\"accuracy:   %0.3f\" % score)\n",
        "cm = metrics.confusion_matrix(y_test, pred, labels=['real', 'fake'])\n",
        "plot_confusion_matrix(cm, classes=['real', 'fake'])"
      ],
      "execution_count": null,
      "outputs": [
        {
          "name": "stdout",
          "output_type": "stream",
          "text": [
            "accuracy:   0.903\n",
            "Confusion matrix, without normalization\n"
          ]
        },
        {
          "data": {
            "image/png": "[encoded data removed]",
            "text/plain": [
              "<Figure size 432x288 with 2 Axes>"
            ]
          },
          "metadata": {},
          "output_type": "display_data"
        }
      ]
    },
    {
      "cell_type": "code",
      "metadata": {
        "id": "3m0Hq-Mwqp4Z",
        "outputId": "565ca725-a54a-4215-89f8-7d41a7c7a2fa"
      },
      "source": [
        "pass_tf = PassiveAggressiveClassifier()\n",
        "pass_tf.fit(tfidf_train_2, y_train)\n",
        "pred = pass_tf.predict(tfidf_test_2)\n",
        "score = metrics.accuracy_score(y_test, pred)\n",
        "print(\"accuracy:   %0.3f\" % score)\n",
        "cm = metrics.confusion_matrix(y_test, pred, labels=['real', 'fake'])\n",
        "plot_confusion_matrix(cm, classes=['real', 'fake'])"
      ],
      "execution_count": null,
      "outputs": [
        {
          "name": "stdout",
          "output_type": "stream",
          "text": [
            "accuracy:   0.941\n",
            "Confusion matrix, without normalization\n"
          ]
        },
        {
          "data": {
            "image/png": "[encoded data removed]",
            "text/plain": [
              "<Figure size 432x288 with 2 Axes>"
            ]
          },
          "metadata": {},
          "output_type": "display_data"
        }
      ]
    },
    {
      "cell_type": "code",
      "metadata": {
        "id": "-sditDfUqp4a",
        "outputId": "c1d843db-a5cc-4a01-ef2a-f0118ecdbbdd"
      },
      "source": [
        "log_tf = LogisticRegression()\n",
        "log_tf.fit(tfidf_train_2, y_train)\n",
        "pred = log_tf.predict(tfidf_test_2)\n",
        "score = metrics.accuracy_score(y_test, pred)\n",
        "print(\"accuracy:   %0.3f\" % score)\n",
        "cm = metrics.confusion_matrix(y_test, pred, labels=['real', 'fake'])\n",
        "plot_confusion_matrix(cm, classes=['real', 'fake'])"
      ],
      "execution_count": null,
      "outputs": [
        {
          "name": "stdout",
          "output_type": "stream",
          "text": [
            "accuracy:   0.921\n",
            "Confusion matrix, without normalization\n"
          ]
        },
        {
          "data": {
            "image/png": "[encoded data removed]",
            "text/plain": [
              "<Figure size 432x288 with 2 Axes>"
            ]
          },
          "metadata": {},
          "output_type": "display_data"
        }
      ]
    },
    {
      "cell_type": "code",
      "metadata": {
        "id": "XyDueiVlqp4b",
        "outputId": "2ba33554-1180-4824-f729-8cb814826280"
      },
      "source": [
        "count_df = pd.DataFrame(count_train.A, columns=count_vectorizer.get_feature_names())\n",
        "count_df.head()"
      ],
      "execution_count": null,
      "outputs": [
        {
          "data": {
            "text/html": [
              "<div>\n",
              "<style scoped>\n",
              "    .dataframe tbody tr th:only-of-type {\n",
              "        vertical-align: middle;\n",
              "    }\n",
              "\n",
              "    .dataframe tbody tr th {\n",
              "        vertical-align: top;\n",
              "    }\n",
              "\n",
              "    .dataframe thead th {\n",
              "        text-align: right;\n",
              "    }\n",
              "</style>\n",
              "<table border=\"1\" class=\"dataframe\">\n",
              "  <thead>\n",
              "    <tr style=\"text-align: right;\">\n",
              "      <th></th>\n",
              "      <th>aadajoli</th>\n",
              "      <th>aaiofficial</th>\n",
              "      <th>aaj</th>\n",
              "      <th>aajtak</th>\n",
              "      <th>aamaadmiparty</th>\n",
              "      <th>aamctoday</th>\n",
              "      <th>aamir</th>\n",
              "      <th>ababa</th>\n",
              "      <th>abacha</th>\n",
              "      <th>abakaliki</th>\n",
              "      <th>...</th>\n",
              "      <th>दह</th>\n",
              "      <th>बरय</th>\n",
              "      <th>बह</th>\n",
              "      <th>वध</th>\n",
              "      <th>ಡನ</th>\n",
              "      <th>ನಗಳಲ</th>\n",
              "      <th>張展</th>\n",
              "      <th>監獄絕食抗議</th>\n",
              "      <th>被監視居住</th>\n",
              "      <th>陳秋實</th>\n",
              "    </tr>\n",
              "  </thead>\n",
              "  <tbody>\n",
              "    <tr>\n",
              "      <th>0</th>\n",
              "      <td>0</td>\n",
              "      <td>0</td>\n",
              "      <td>0</td>\n",
              "      <td>0</td>\n",
              "      <td>0</td>\n",
              "      <td>0</td>\n",
              "      <td>0</td>\n",
              "      <td>0</td>\n",
              "      <td>0</td>\n",
              "      <td>0</td>\n",
              "      <td>...</td>\n",
              "      <td>0</td>\n",
              "      <td>0</td>\n",
              "      <td>0</td>\n",
              "      <td>0</td>\n",
              "      <td>0</td>\n",
              "      <td>0</td>\n",
              "      <td>0</td>\n",
              "      <td>0</td>\n",
              "      <td>0</td>\n",
              "      <td>0</td>\n",
              "    </tr>\n",
              "    <tr>\n",
              "      <th>1</th>\n",
              "      <td>0</td>\n",
              "      <td>0</td>\n",
              "      <td>0</td>\n",
              "      <td>0</td>\n",
              "      <td>0</td>\n",
              "      <td>0</td>\n",
              "      <td>0</td>\n",
              "      <td>0</td>\n",
              "      <td>0</td>\n",
              "      <td>0</td>\n",
              "      <td>...</td>\n",
              "      <td>0</td>\n",
              "      <td>0</td>\n",
              "      <td>0</td>\n",
              "      <td>0</td>\n",
              "      <td>0</td>\n",
              "      <td>0</td>\n",
              "      <td>0</td>\n",
              "      <td>0</td>\n",
              "      <td>0</td>\n",
              "      <td>0</td>\n",
              "    </tr>\n",
              "    <tr>\n",
              "      <th>2</th>\n",
              "      <td>0</td>\n",
              "      <td>0</td>\n",
              "      <td>0</td>\n",
              "      <td>0</td>\n",
              "      <td>0</td>\n",
              "      <td>0</td>\n",
              "      <td>0</td>\n",
              "      <td>0</td>\n",
              "      <td>0</td>\n",
              "      <td>0</td>\n",
              "      <td>...</td>\n",
              "      <td>0</td>\n",
              "      <td>0</td>\n",
              "      <td>0</td>\n",
              "      <td>0</td>\n",
              "      <td>0</td>\n",
              "      <td>0</td>\n",
              "      <td>0</td>\n",
              "      <td>0</td>\n",
              "      <td>0</td>\n",
              "      <td>0</td>\n",
              "    </tr>\n",
              "    <tr>\n",
              "      <th>3</th>\n",
              "      <td>0</td>\n",
              "      <td>0</td>\n",
              "      <td>0</td>\n",
              "      <td>0</td>\n",
              "      <td>0</td>\n",
              "      <td>0</td>\n",
              "      <td>0</td>\n",
              "      <td>0</td>\n",
              "      <td>0</td>\n",
              "      <td>0</td>\n",
              "      <td>...</td>\n",
              "      <td>0</td>\n",
              "      <td>0</td>\n",
              "      <td>0</td>\n",
              "      <td>0</td>\n",
              "      <td>0</td>\n",
              "      <td>0</td>\n",
              "      <td>0</td>\n",
              "      <td>0</td>\n",
              "      <td>0</td>\n",
              "      <td>0</td>\n",
              "    </tr>\n",
              "    <tr>\n",
              "      <th>4</th>\n",
              "      <td>0</td>\n",
              "      <td>0</td>\n",
              "      <td>0</td>\n",
              "      <td>0</td>\n",
              "      <td>0</td>\n",
              "      <td>0</td>\n",
              "      <td>0</td>\n",
              "      <td>0</td>\n",
              "      <td>0</td>\n",
              "      <td>0</td>\n",
              "      <td>...</td>\n",
              "      <td>0</td>\n",
              "      <td>0</td>\n",
              "      <td>0</td>\n",
              "      <td>0</td>\n",
              "      <td>0</td>\n",
              "      <td>0</td>\n",
              "      <td>0</td>\n",
              "      <td>0</td>\n",
              "      <td>0</td>\n",
              "      <td>0</td>\n",
              "    </tr>\n",
              "  </tbody>\n",
              "</table>\n",
              "<p>5 rows × 10712 columns</p>\n",
              "</div>"
            ],
            "text/plain": [
              "   aadajoli  aaiofficial  aaj  aajtak  aamaadmiparty  aamctoday  aamir  ababa  \\\n",
              "0         0            0    0       0              0          0      0      0   \n",
              "1         0            0    0       0              0          0      0      0   \n",
              "2         0            0    0       0              0          0      0      0   \n",
              "3         0            0    0       0              0          0      0      0   \n",
              "4         0            0    0       0              0          0      0      0   \n",
              "\n",
              "   abacha  abakaliki  ...  दह  बरय  बह  वध  ಡನ  ನಗಳಲ  張展  監獄絕食抗議  被監視居住  陳秋實  \n",
              "0       0          0  ...   0    0   0   0   0     0   0       0      0    0  \n",
              "1       0          0  ...   0    0   0   0   0     0   0       0      0    0  \n",
              "2       0          0  ...   0    0   0   0   0     0   0       0      0    0  \n",
              "3       0          0  ...   0    0   0   0   0     0   0       0      0    0  \n",
              "4       0          0  ...   0    0   0   0   0     0   0       0      0    0  \n",
              "\n",
              "[5 rows x 10712 columns]"
            ]
          },
          "execution_count": 37,
          "metadata": {},
          "output_type": "execute_result"
        }
      ]
    },
    {
      "cell_type": "code",
      "metadata": {
        "id": "8O6S2eWuqp4b"
      },
      "source": [
        "def most_informative_feature_for_binary_classification(vectorizer, classifier, n=100):\n",
        "    \"\"\"\n",
        "    See: https://stackoverflow.com/a/26980472\n",
        "    \n",
        "    Identify most important features if given a vectorizer and binary classifier. Set n to the number\n",
        "    of weighted features you would like to show. (Note: current implementation merely prints and does not \n",
        "    return top classes.)\n",
        "    \"\"\"\n",
        "\n",
        "    class_labels = classifier.classes_\n",
        "    feature_names = vectorizer.get_feature_names()\n",
        "    topn_class1 = sorted(zip(classifier.coef_[0], feature_names))[:n]\n",
        "    topn_class2 = sorted(zip(classifier.coef_[0], feature_names))[-n:]\n",
        "\n",
        "    for coef, feat in topn_class1:\n",
        "        print(class_labels[0], coef, feat)\n",
        "\n",
        "    print()\n",
        "\n",
        "    for coef, feat in reversed(topn_class2):\n",
        "        print(class_labels[1], coef, feat)"
      ],
      "execution_count": null,
      "outputs": []
    },
    {
      "cell_type": "code",
      "metadata": {
        "id": "P9NoOgggqp4c",
        "outputId": "65190034-3a03-4e75-89ab-17ed12eeb855"
      },
      "source": [
        "most_informative_feature_for_binary_classification(tfidf_vectorizer, pass_tf, n=30)"
      ],
      "execution_count": null,
      "outputs": [
        {
          "name": "stdout",
          "output_type": "stream",
          "text": [
            "fake -4.76673345943678 coronavirus\n",
            "fake -4.525024651000161 covid\n",
            "fake -4.017697904209124 news\n",
            "fake -3.2602386307826885 trump\n",
            "fake -2.9720689093783625 corona\n",
            "fake -2.2828601276256273 claim\n",
            "fake -2.1223562817543735 virus\n",
            "fake -2.103057464407433 lockdown\n",
            "fake -2.074374259330692 coronavirusfacts\n",
            "fake -2.016852107380097 president\n",
            "fake -1.845090862920686 false\n",
            "fake -1.8037887462674993 fact\n",
            "fake -1.7676623534465747 pandemic\n",
            "fake -1.7496260696627828 said\n",
            "fake -1.716487945679415 claims\n",
            "fake -1.7078714647471425 china\n",
            "fake -1.7047716217045263 man\n",
            "fake -1.693907017305603 realdonaldtrump\n",
            "fake -1.6927766256830237 video\n",
            "fake -1.6678206014868442 cure\n",
            "fake -1.6447898054534424 government\n",
            "fake -1.6421524373912173 masks\n",
            "fake -1.6012330570579463 factcheck\n",
            "fake -1.5974222793681832 coronavirusfacts https\n",
            "fake -1.538106925260448 gates\n",
            "fake -1.5258266225486306 indian\n",
            "fake -1.4715335285264612 wuhan\n",
            "fake -1.4583594630591323 guide\n",
            "fake -1.4362821627092213 gt\n",
            "fake -1.4165247775479268 misinformation\n",
            "\n",
            "real 8.285246671556907 https\n",
            "real 5.709676299528655 rt\n",
            "real 3.798038045734876 drtedros\n",
            "real 3.298306560726188 data\n",
            "real 3.104375327904045 amp\n",
            "real 2.575437651712932 cases\n",
            "real 2.478530915910836 alexismadrigal\n",
            "real 2.436216623997244 tests\n",
            "real 2.4118301899171666 testing\n",
            "real 2.3403070722569552 restrictions\n",
            "real 2.2657219732990828 contact\n",
            "real 2.263393227034339 states\n",
            "real 2.244814517442363 today\n",
            "real 2.129480483841162 numbers\n",
            "real 2.063264812373812 second\n",
            "real 2.0618222933293113 report\n",
            "real 2.0563028269221273 indiafightscorona\n",
            "real 2.027937208414841 measures\n",
            "real 2.007408987856489 transmission\n",
            "real 1.9640916056627988 level\n",
            "real 1.9556098973721896 protect\n",
            "real 1.918230020905516 total\n",
            "real 1.9126357736082598 england\n",
            "real 1.8862712083770417 learn\n",
            "real 1.8178884845223289 coronavirusupdates\n",
            "real 1.7852171660719482 state\n",
            "real 1.77409316286795 capacity\n",
            "real 1.7660821935171083 reporting\n",
            "real 1.7619111319221052 spread\n",
            "real 1.7175003455115854 risk\n"
          ]
        }
      ]
    },
    {
      "cell_type": "code",
      "metadata": {
        "id": "Ggh_4njzqp4c"
      },
      "source": [
        "from sklearn.feature_extraction.text import TfidfVectorizer"
      ],
      "execution_count": null,
      "outputs": []
    },
    {
      "cell_type": "code",
      "metadata": {
        "id": "THswsZHSqp4c"
      },
      "source": [
        "tfidf_vectorizer = TfidfVectorizer(stop_words='english',max_df=0.75)"
      ],
      "execution_count": null,
      "outputs": []
    },
    {
      "cell_type": "code",
      "metadata": {
        "id": "4BXMrfcKqp4d",
        "outputId": "eb53301e-c7d6-4d96-fda2-bf1d2952fab5"
      },
      "source": [
        "#vectorization = TfidfVectorizer(stop_words='english',max_df=0.75)\n",
        "xv_train = tfidf_vectorizer.fit_transform(x_train.values.astype('U'))\n",
        "xv_test = tfidf_vectorizer.transform(x_test.values.astype('U'))\n",
        "\n",
        "'''\n",
        "TF (Term Frequency): The number of times a word appears in a document is its Term Frequency. \n",
        "A higher value means a term appears more often than others, and so, the document is a good match \n",
        "when the term is part of the search terms.\n",
        "\n",
        "IDF (Inverse Document Frequency): Words that occur many times a document,\n",
        "but also occur many times in many others, may be irrelevant. IDF is a measure of how significant\n",
        "a term is in the entire corpus.\n",
        "\n",
        "The TfidfVectorizer converts a collection of raw documents into a matrix of TF-IDF features.\n",
        "'''"
      ],
      "execution_count": null,
      "outputs": [
        {
          "data": {
            "text/plain": [
              "'\\nTF (Term Frequency): The number of times a word appears in a document is its Term Frequency. \\nA higher value means a term appears more often than others, and so, the document is a good match \\nwhen the term is part of the search terms.\\n\\nIDF (Inverse Document Frequency): Words that occur many times a document,\\nbut also occur many times in many others, may be irrelevant. IDF is a measure of how significant\\na term is in the entire corpus.\\n\\nThe TfidfVectorizer converts a collection of raw documents into a matrix of TF-IDF features.\\n'"
            ]
          },
          "execution_count": 42,
          "metadata": {},
          "output_type": "execute_result"
        }
      ]
    },
    {
      "cell_type": "markdown",
      "metadata": {
        "id": "3l0OwXqIqp4d"
      },
      "source": [
        "### 1. Logistic Regression"
      ]
    },
    {
      "cell_type": "code",
      "metadata": {
        "id": "ZFJN52Pcqp4e",
        "outputId": "f624d5f7-1250-4b6a-ee8a-67de614b9ced"
      },
      "source": [
        "LR = LogisticRegression()\n",
        "LR.fit(xv_train,y_train)"
      ],
      "execution_count": null,
      "outputs": [
        {
          "data": {
            "text/plain": [
              "LogisticRegression()"
            ]
          },
          "execution_count": 43,
          "metadata": {},
          "output_type": "execute_result"
        }
      ]
    },
    {
      "cell_type": "code",
      "metadata": {
        "id": "esciuCyeqp4f"
      },
      "source": [
        "pred_lr=LR.predict(xv_test)"
      ],
      "execution_count": null,
      "outputs": []
    },
    {
      "cell_type": "code",
      "metadata": {
        "id": "fKpBIVtUqp4f",
        "outputId": "6a45005f-9683-460a-f74b-bf51ab0c2680"
      },
      "source": [
        "LR.score(xv_test, y_test)\n",
        "score = LR.score(xv_test, y_test)\n",
        "print(f'Accuracy: {round(score*100,2)}%')"
      ],
      "execution_count": null,
      "outputs": [
        {
          "name": "stdout",
          "output_type": "stream",
          "text": [
            "Accuracy: 92.52%\n"
          ]
        }
      ]
    },
    {
      "cell_type": "code",
      "metadata": {
        "id": "A15g7NQLqp4g",
        "outputId": "e40cec43-a5ae-4d46-9d3a-af2ae6bd4feb"
      },
      "source": [
        "#Build a text report showing the main classification metrics. \n",
        "#note : A revoir en detaillant \n",
        "print(classification_report(y_test, pred_lr))"
      ],
      "execution_count": null,
      "outputs": [
        {
          "name": "stdout",
          "output_type": "stream",
          "text": [
            "              precision    recall  f1-score   support\n",
            "\n",
            "        fake       0.92      0.93      0.92       770\n",
            "        real       0.93      0.92      0.93       835\n",
            "\n",
            "    accuracy                           0.93      1605\n",
            "   macro avg       0.93      0.93      0.93      1605\n",
            "weighted avg       0.93      0.93      0.93      1605\n",
            "\n"
          ]
        }
      ]
    },
    {
      "cell_type": "markdown",
      "metadata": {
        "id": "--8aBTMnqp4h"
      },
      "source": [
        "## 2. Naive BAYES => MULTINOMIALNB"
      ]
    },
    {
      "cell_type": "code",
      "metadata": {
        "id": "zXVKDg8vqp4i",
        "outputId": "207ea49e-8eee-42c5-8f6c-85bd6c6cb7bb"
      },
      "source": [
        "#Naive Bayes classifier for multinomial models\n",
        "#The multinomial Naive Bayes classifier is suitable for classification with discrete features \n",
        "#(e.g., word counts for text classification).\n",
        "\n",
        "#Train Naive Bayes Model\n",
        "from sklearn.naive_bayes import MultinomialNB\n",
        "MB =MultinomialNB()\n",
        "MB.fit(xv_train,y_train)"
      ],
      "execution_count": null,
      "outputs": [
        {
          "data": {
            "text/plain": [
              "MultinomialNB()"
            ]
          },
          "execution_count": 47,
          "metadata": {},
          "output_type": "execute_result"
        }
      ]
    },
    {
      "cell_type": "code",
      "metadata": {
        "id": "tWko8GFlqp4j"
      },
      "source": [
        "pred_MB=MB.predict(xv_test)"
      ],
      "execution_count": null,
      "outputs": []
    },
    {
      "cell_type": "code",
      "metadata": {
        "id": "Zj2ehWCOqp4j",
        "outputId": "1e66ce6e-b173-4d13-950e-aca2ad7aa0c8"
      },
      "source": [
        "score = MB.score(xv_test, y_test)\n",
        "print(f'Accuracy: {round(score*100,2)}%')"
      ],
      "execution_count": null,
      "outputs": [
        {
          "name": "stdout",
          "output_type": "stream",
          "text": [
            "Accuracy: 90.47%\n"
          ]
        }
      ]
    },
    {
      "cell_type": "code",
      "metadata": {
        "id": "DLbTudy8qp4k",
        "outputId": "bb12f8c7-d415-40be-e22d-9266356f189d"
      },
      "source": [
        "print(classification_report(y_test, pred_MB))"
      ],
      "execution_count": null,
      "outputs": [
        {
          "name": "stdout",
          "output_type": "stream",
          "text": [
            "              precision    recall  f1-score   support\n",
            "\n",
            "        fake       0.95      0.85      0.89       770\n",
            "        real       0.87      0.96      0.91       835\n",
            "\n",
            "    accuracy                           0.90      1605\n",
            "   macro avg       0.91      0.90      0.90      1605\n",
            "weighted avg       0.91      0.90      0.90      1605\n",
            "\n"
          ]
        }
      ]
    },
    {
      "cell_type": "markdown",
      "metadata": {
        "id": "IHdcOslEqp4s"
      },
      "source": [
        "## 3. KNN"
      ]
    },
    {
      "cell_type": "code",
      "metadata": {
        "id": "B-bqH_WUqp4s",
        "outputId": "dbfd83ad-2e41-4272-fbef-4a86e7fb6eb0"
      },
      "source": [
        "#add range of k\n",
        "KNN = KNeighborsClassifier(n_neighbors=12)\n",
        "KNN.fit(xv_train,y_train)"
      ],
      "execution_count": null,
      "outputs": [
        {
          "data": {
            "text/plain": [
              "KNeighborsClassifier(n_neighbors=12)"
            ]
          },
          "execution_count": 51,
          "metadata": {},
          "output_type": "execute_result"
        }
      ]
    },
    {
      "cell_type": "code",
      "metadata": {
        "id": "wlY7ZNtqqp4t"
      },
      "source": [
        "pred_KNN=KNN.predict(xv_test)"
      ],
      "execution_count": null,
      "outputs": []
    },
    {
      "cell_type": "code",
      "metadata": {
        "id": "Ri_8EKHeqp4t",
        "outputId": "145f8390-0270-4c66-f822-515bad471829"
      },
      "source": [
        "score = KNN.score(xv_test, y_test)\n",
        "print(f'Accuracy: {round(score*100,2)}%')"
      ],
      "execution_count": null,
      "outputs": [
        {
          "name": "stdout",
          "output_type": "stream",
          "text": [
            "Accuracy: 89.35%\n"
          ]
        }
      ]
    },
    {
      "cell_type": "code",
      "metadata": {
        "id": "j2HxfPZtqp4u",
        "outputId": "dc3d1dd1-fcdf-413b-ef0e-6d153c64163c"
      },
      "source": [
        "print(classification_report(y_test, pred_KNN))"
      ],
      "execution_count": null,
      "outputs": [
        {
          "name": "stdout",
          "output_type": "stream",
          "text": [
            "              precision    recall  f1-score   support\n",
            "\n",
            "        fake       0.90      0.88      0.89       770\n",
            "        real       0.89      0.91      0.90       835\n",
            "\n",
            "    accuracy                           0.89      1605\n",
            "   macro avg       0.89      0.89      0.89      1605\n",
            "weighted avg       0.89      0.89      0.89      1605\n",
            "\n"
          ]
        }
      ]
    },
    {
      "cell_type": "markdown",
      "metadata": {
        "id": "0FFXuxIoqp4u"
      },
      "source": [
        "## 4. PassiveAggressiveClassifier"
      ]
    },
    {
      "cell_type": "markdown",
      "metadata": {
        "id": "ROxzgWx0qp4v"
      },
      "source": [
        "##### What is a PassiveAggressiveClassifier?\n",
        "- Passive Aggressive algorithms are online learning algorithms. Such an algorithm remains passive for a correct classification outcome, and turns aggressive in the event of a miscalculation, updating and adjusting. Unlike most other algorithms, it does not converge. Its purpose is to make updates that correct the loss, causing very little change in the norm of the weight vector.\n",
        "\n",
        "- A revoir"
      ]
    },
    {
      "cell_type": "code",
      "metadata": {
        "id": "NSbGX9m1qp4v",
        "outputId": "50288d80-b39e-46ca-98d0-c1601ac850f1"
      },
      "source": [
        "pac=PassiveAggressiveClassifier()\n",
        "pac.fit(xv_train,y_train)"
      ],
      "execution_count": null,
      "outputs": [
        {
          "data": {
            "text/plain": [
              "PassiveAggressiveClassifier()"
            ]
          },
          "execution_count": 55,
          "metadata": {},
          "output_type": "execute_result"
        }
      ]
    },
    {
      "cell_type": "code",
      "metadata": {
        "id": "TEw2cv7Lqp4w"
      },
      "source": [
        "pred_pac=pac.predict(xv_test)"
      ],
      "execution_count": null,
      "outputs": []
    },
    {
      "cell_type": "code",
      "metadata": {
        "id": "fV3Kttiwqp4w",
        "outputId": "93bfb801-9b0d-4159-905c-f3ba178f1c8c"
      },
      "source": [
        "score = pac.score(xv_test, y_test)\n",
        "print(f'Accuracy: {round(score*100,2)}%')"
      ],
      "execution_count": null,
      "outputs": [
        {
          "name": "stdout",
          "output_type": "stream",
          "text": [
            "Accuracy: 93.33%\n"
          ]
        }
      ]
    },
    {
      "cell_type": "code",
      "metadata": {
        "id": "lxbf-Nzdqp4x",
        "outputId": "f2478eea-765d-4573-8bbc-9f33a78d2858"
      },
      "source": [
        "print(classification_report(y_test, pred_pac))"
      ],
      "execution_count": null,
      "outputs": [
        {
          "name": "stdout",
          "output_type": "stream",
          "text": [
            "              precision    recall  f1-score   support\n",
            "\n",
            "        fake       0.94      0.92      0.93       770\n",
            "        real       0.92      0.95      0.94       835\n",
            "\n",
            "    accuracy                           0.93      1605\n",
            "   macro avg       0.93      0.93      0.93      1605\n",
            "weighted avg       0.93      0.93      0.93      1605\n",
            "\n"
          ]
        }
      ]
    },
    {
      "cell_type": "code",
      "metadata": {
        "id": "UZIGI_VLqp4x",
        "outputId": "b0885640-6a32-49f1-b822-c0aad4ff3602"
      },
      "source": [
        "confusion_matrix(y_test,pred_pac)"
      ],
      "execution_count": null,
      "outputs": [
        {
          "data": {
            "text/plain": [
              "array([[705,  65],\n",
              "       [ 42, 793]], dtype=int64)"
            ]
          },
          "execution_count": 59,
          "metadata": {},
          "output_type": "execute_result"
        }
      ]
    },
    {
      "cell_type": "markdown",
      "metadata": {
        "id": "ifSBO9uYqp4y"
      },
      "source": [
        "### So with this model\n",
        "- we have 700 true positives,\n",
        "- 796 true negatives,\n",
        "- 50 false positives, \n",
        "- and 59 false negatives.\n",
        "\n",
        "![image.png](attachment:image.png)"
      ]
    },
    {
      "cell_type": "markdown",
      "metadata": {
        "id": "nIq56p30qp4y"
      },
      "source": [
        "### CONCLUSION\n",
        "- this is the best model with an accuracy of 93,21%"
      ]
    },
    {
      "cell_type": "code",
      "metadata": {
        "id": "Mi0nh_r9qp4y",
        "outputId": "87aaae31-47b3-4f6e-9e10-4e90fd4f9e11"
      },
      "source": [
        "X= vectorization.fit_transform(df['tweet'].astype('U'))"
      ],
      "execution_count": null,
      "outputs": [
        {
          "ename": "NameError",
          "evalue": "name 'vectorization' is not defined",
          "output_type": "error",
          "traceback": [
            "\u001b[1;31m---------------------------------------------------------------------------\u001b[0m",
            "\u001b[1;31mNameError\u001b[0m                                 Traceback (most recent call last)",
            "\u001b[1;32m<ipython-input-60-9147f0a7706a>\u001b[0m in \u001b[0;36m<module>\u001b[1;34m\u001b[0m\n\u001b[1;32m----> 1\u001b[1;33m \u001b[0mX\u001b[0m\u001b[1;33m=\u001b[0m \u001b[0mvectorization\u001b[0m\u001b[1;33m.\u001b[0m\u001b[0mfit_transform\u001b[0m\u001b[1;33m(\u001b[0m\u001b[0mdf\u001b[0m\u001b[1;33m[\u001b[0m\u001b[1;34m'tweet'\u001b[0m\u001b[1;33m]\u001b[0m\u001b[1;33m.\u001b[0m\u001b[0mastype\u001b[0m\u001b[1;33m(\u001b[0m\u001b[1;34m'U'\u001b[0m\u001b[1;33m)\u001b[0m\u001b[1;33m)\u001b[0m\u001b[1;33m\u001b[0m\u001b[1;33m\u001b[0m\u001b[0m\n\u001b[0m",
            "\u001b[1;31mNameError\u001b[0m: name 'vectorization' is not defined"
          ]
        }
      ]
    },
    {
      "cell_type": "code",
      "metadata": {
        "id": "o81WHZ7Gqp4z"
      },
      "source": [
        "#We set for K-Fold equal to k=5 folds\n",
        "print(\"PAC\")\n",
        "scores = cross_val_score(pac, X, df[\"label\"].values,cv=5)\n",
        "print(f'the accuracy of K-Fold: {round(scores.mean()*100,2)}%')"
      ],
      "execution_count": null,
      "outputs": []
    },
    {
      "cell_type": "code",
      "metadata": {
        "id": "Jzx6uZu6qp4z"
      },
      "source": [
        "#We set for K-Fold equal to k=5 folds\n",
        "print(\"LR\")\n",
        "scores = cross_val_score(LR, X, df[\"label\"].values,cv=5)\n",
        "print(f'the accuracy of K-Fold: {round(scores.mean()*100,2)}%')"
      ],
      "execution_count": null,
      "outputs": []
    },
    {
      "cell_type": "code",
      "metadata": {
        "id": "GeJJ94tsqp40"
      },
      "source": [
        "#We set for K-Fold equal to k=5 folds\n",
        "print(\"KNN\")\n",
        "scores = cross_val_score(KNN, X, df[\"label\"].values,cv=5)\n",
        "print(f'the accuracy of K-Fold: {round(scores.mean()*100,2)}%')"
      ],
      "execution_count": null,
      "outputs": []
    },
    {
      "cell_type": "code",
      "metadata": {
        "id": "A8RJKbhKqp40"
      },
      "source": [
        "#We set for K-Fold equal to k=5 folds\n",
        "print(\"MB\")\n",
        "scores = cross_val_score(MB, X, df[\"label\"].values,cv=5)\n",
        "print(f'the accuracy of K-Fold: {round(scores.mean()*100,2)}%')"
      ],
      "execution_count": null,
      "outputs": []
    },
    {
      "cell_type": "markdown",
      "metadata": {
        "id": "15c0lxxFqp41"
      },
      "source": [
        "### TEST THE BEST MODEL => PAC"
      ]
    },
    {
      "cell_type": "code",
      "metadata": {
        "id": "2zqmKHNJqp41"
      },
      "source": [
        "df_test = pd.read_csv(\"Constraint_English_Test.csv\")"
      ],
      "execution_count": null,
      "outputs": []
    },
    {
      "cell_type": "code",
      "metadata": {
        "id": "M0mdQ6qTqp42"
      },
      "source": [
        "df_test.head(7)"
      ],
      "execution_count": null,
      "outputs": []
    },
    {
      "cell_type": "code",
      "metadata": {
        "id": "eYPZOf2pqp42"
      },
      "source": [
        "df_test=df_test.drop(['id'],axis=1)"
      ],
      "execution_count": null,
      "outputs": []
    },
    {
      "cell_type": "code",
      "metadata": {
        "id": "YQ5B-1KHqp43"
      },
      "source": [
        "df_test.head(7)"
      ],
      "execution_count": null,
      "outputs": []
    },
    {
      "cell_type": "code",
      "metadata": {
        "id": "LdwRil-1qp43"
      },
      "source": [
        "df_test[\"label\"].value_counts()"
      ],
      "execution_count": null,
      "outputs": []
    },
    {
      "cell_type": "code",
      "metadata": {
        "id": "mVy4TJ1jqp44"
      },
      "source": [
        "#use map to code label : true as 1 / fake as 0\n",
        "df_test['label'] = df_test['label'].map({'real': 1,'fake': 0})"
      ],
      "execution_count": null,
      "outputs": []
    },
    {
      "cell_type": "code",
      "metadata": {
        "id": "55_DUq-Eqp44"
      },
      "source": [
        "df_test.head(7)"
      ],
      "execution_count": null,
      "outputs": []
    },
    {
      "cell_type": "code",
      "metadata": {
        "id": "EVG0oEKfqp45"
      },
      "source": [
        "def findlabel(newtext):\n",
        "    vec_newtest=tfidf_vectorizer.transform([newtext])\n",
        "    y_pred1=pac.predict(vec_newtest)\n",
        "    return y_pred1[0]"
      ],
      "execution_count": null,
      "outputs": []
    },
    {
      "cell_type": "code",
      "metadata": {
        "scrolled": true,
        "id": "Nln-IFZlqp45"
      },
      "source": [
        "findlabel((df_test['tweet'][0]))\n",
        "findlabel(('corona isjust a conspiracy , it s not true ')) \n",
        "#0 => fake\n",
        "#1 => true"
      ],
      "execution_count": null,
      "outputs": []
    },
    {
      "cell_type": "code",
      "metadata": {
        "id": "OvCKU2Nkqp46"
      },
      "source": [
        "df['tweet'].size\n",
        "len(df_test['tweet'])"
      ],
      "execution_count": null,
      "outputs": []
    },
    {
      "cell_type": "code",
      "metadata": {
        "id": "27E6Bx18qp46"
      },
      "source": [
        "sum([1 if findlabel((df_test['tweet'][i]))== 1 else 0 for i in range(len(df_test['tweet']))])/len(df_test['tweet'])"
      ],
      "execution_count": null,
      "outputs": []
    },
    {
      "cell_type": "code",
      "metadata": {
        "id": "qd2Ahk75qp47"
      },
      "source": [
        "sum([1 if findlabel((df_test['tweet'][i]))== 0 else 0 for i in range(len(df_test['tweet']))])/df['tweet'].size"
      ],
      "execution_count": null,
      "outputs": []
    }
  ]
}