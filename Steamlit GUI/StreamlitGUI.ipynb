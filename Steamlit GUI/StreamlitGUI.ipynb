{
 "cells": [
  {
   "cell_type": "code",
   "execution_count": 2,
   "metadata": {
    "colab": {
     "base_uri": "https://localhost:8080/"
    },
    "id": "8ebYU9mpnac9",
    "outputId": "56cc6ec4-360e-4d97-838b-6e78be3ffa8e"
   },
   "outputs": [
    {
     "name": "stdout",
     "output_type": "stream",
     "text": [
      "Drive already mounted at /content/drive; to attempt to forcibly remount, call drive.mount(\"/content/drive\", force_remount=True).\n"
     ]
    }
   ],
   "source": [
    "from google.colab import drive\n",
    "drive.mount('/content/drive')"
   ]
  },
  {
   "cell_type": "code",
   "execution_count": 1,
   "metadata": {
    "id": "YOTWSkahnlOs"
   },
   "outputs": [],
   "source": [
    "import pandas as pd\n",
    "\n",
    "import numpy as np\n",
    "from sklearn import preprocessing\n",
    "\n",
    "import re, string\n",
    "import pickle\n",
    "import warnings\n",
    "warnings.simplefilter(action='ignore', category=FutureWarning)\n",
    "import pickle as pkl #Wrap object to use later\n",
    "import tqdm as tqdm # make your loops show a smart progress meter\n",
    "from sklearn.linear_model import LogisticRegression\n",
    "from sklearn.naive_bayes import MultinomialNB\n",
    "from sklearn.model_selection import train_test_split\n",
    "\n",
    "from sklearn.feature_extraction.text import CountVectorizer\n",
    "from sklearn.feature_extraction.text import TfidfVectorizer\n",
    "from sklearn.metrics import log_loss\n",
    "from sklearn.metrics import roc_auc_score\n",
    "\n",
    "from sklearn import metrics\n"
   ]
  },
  {
   "cell_type": "code",
   "execution_count": 2,
   "metadata": {
    "id": "fgH_JWC1pj0B"
   },
   "outputs": [],
   "source": [
    "df_train=pd.read_csv(\"Constraint_English_Train.csv\")\n",
    "df_test=pd.read_csv(\"Constraint_English_Test.csv\")"
   ]
  },
  {
   "cell_type": "markdown",
   "metadata": {
    "id": "NK9ekL3fqGZr"
   },
   "source": [
    "Our purpose is to pickle every object needed for the gui <br>\n",
    "- using only one Model for the test for the GUI : LR"
   ]
  },
  {
   "cell_type": "code",
   "execution_count": 3,
   "metadata": {
    "colab": {
     "base_uri": "https://localhost:8080/",
     "height": 142
    },
    "id": "L2PgWXcEpwr0",
    "outputId": "6f4b9575-ba1d-4a8b-a86f-2a07a6c5297b"
   },
   "outputs": [
    {
     "data": {
      "text/html": [
       "<div>\n",
       "<style scoped>\n",
       "    .dataframe tbody tr th:only-of-type {\n",
       "        vertical-align: middle;\n",
       "    }\n",
       "\n",
       "    .dataframe tbody tr th {\n",
       "        vertical-align: top;\n",
       "    }\n",
       "\n",
       "    .dataframe thead th {\n",
       "        text-align: right;\n",
       "    }\n",
       "</style>\n",
       "<table border=\"1\" class=\"dataframe\">\n",
       "  <thead>\n",
       "    <tr style=\"text-align: right;\">\n",
       "      <th></th>\n",
       "      <th>id</th>\n",
       "      <th>tweet</th>\n",
       "      <th>label</th>\n",
       "    </tr>\n",
       "  </thead>\n",
       "  <tbody>\n",
       "    <tr>\n",
       "      <th>0</th>\n",
       "      <td>1</td>\n",
       "      <td>The CDC currently reports 99031 deaths. In gen...</td>\n",
       "      <td>real</td>\n",
       "    </tr>\n",
       "    <tr>\n",
       "      <th>1</th>\n",
       "      <td>2</td>\n",
       "      <td>States reported 1121 deaths a small rise from ...</td>\n",
       "      <td>real</td>\n",
       "    </tr>\n",
       "    <tr>\n",
       "      <th>2</th>\n",
       "      <td>3</td>\n",
       "      <td>Politically Correct Woman (Almost) Uses Pandem...</td>\n",
       "      <td>fake</td>\n",
       "    </tr>\n",
       "  </tbody>\n",
       "</table>\n",
       "</div>"
      ],
      "text/plain": [
       "   id                                              tweet label\n",
       "0   1  The CDC currently reports 99031 deaths. In gen...  real\n",
       "1   2  States reported 1121 deaths a small rise from ...  real\n",
       "2   3  Politically Correct Woman (Almost) Uses Pandem...  fake"
      ]
     },
     "execution_count": 3,
     "metadata": {},
     "output_type": "execute_result"
    }
   ],
   "source": [
    "df_train.head(3)"
   ]
  },
  {
   "cell_type": "code",
   "execution_count": 4,
   "metadata": {
    "id": "Ipp8p4pxqRaU"
   },
   "outputs": [],
   "source": [
    "df_train=df_train.drop(['id'],axis=1)"
   ]
  },
  {
   "cell_type": "code",
   "execution_count": 5,
   "metadata": {
    "colab": {
     "base_uri": "https://localhost:8080/",
     "height": 142
    },
    "id": "qRcp_4HIqVMO",
    "outputId": "1ee125f8-7c94-4412-88a9-9f5657a6b5e1"
   },
   "outputs": [
    {
     "data": {
      "text/html": [
       "<div>\n",
       "<style scoped>\n",
       "    .dataframe tbody tr th:only-of-type {\n",
       "        vertical-align: middle;\n",
       "    }\n",
       "\n",
       "    .dataframe tbody tr th {\n",
       "        vertical-align: top;\n",
       "    }\n",
       "\n",
       "    .dataframe thead th {\n",
       "        text-align: right;\n",
       "    }\n",
       "</style>\n",
       "<table border=\"1\" class=\"dataframe\">\n",
       "  <thead>\n",
       "    <tr style=\"text-align: right;\">\n",
       "      <th></th>\n",
       "      <th>tweet</th>\n",
       "      <th>label</th>\n",
       "    </tr>\n",
       "  </thead>\n",
       "  <tbody>\n",
       "    <tr>\n",
       "      <th>0</th>\n",
       "      <td>The CDC currently reports 99031 deaths. In gen...</td>\n",
       "      <td>real</td>\n",
       "    </tr>\n",
       "    <tr>\n",
       "      <th>1</th>\n",
       "      <td>States reported 1121 deaths a small rise from ...</td>\n",
       "      <td>real</td>\n",
       "    </tr>\n",
       "    <tr>\n",
       "      <th>2</th>\n",
       "      <td>Politically Correct Woman (Almost) Uses Pandem...</td>\n",
       "      <td>fake</td>\n",
       "    </tr>\n",
       "  </tbody>\n",
       "</table>\n",
       "</div>"
      ],
      "text/plain": [
       "                                               tweet label\n",
       "0  The CDC currently reports 99031 deaths. In gen...  real\n",
       "1  States reported 1121 deaths a small rise from ...  real\n",
       "2  Politically Correct Woman (Almost) Uses Pandem...  fake"
      ]
     },
     "execution_count": 5,
     "metadata": {},
     "output_type": "execute_result"
    }
   ],
   "source": [
    "df_train.head(3)"
   ]
  },
  {
   "cell_type": "code",
   "execution_count": 6,
   "metadata": {
    "colab": {
     "base_uri": "https://localhost:8080/"
    },
    "id": "6Z84Dkb4qaZW",
    "outputId": "833ac631-c3e9-43bf-cee0-d59ba658aa0a"
   },
   "outputs": [
    {
     "data": {
      "text/plain": [
       "real    3360\n",
       "fake    3060\n",
       "Name: label, dtype: int64"
      ]
     },
     "execution_count": 6,
     "metadata": {},
     "output_type": "execute_result"
    }
   ],
   "source": [
    "df_train[\"label\"].value_counts()"
   ]
  },
  {
   "cell_type": "markdown",
   "metadata": {
    "id": "v1B1qdOIrFeC"
   },
   "source": [
    "#### Creating a function to convert the text in lowercase, remove the extra space, special chr., ulr and links."
   ]
  },
  {
   "cell_type": "code",
   "execution_count": 7,
   "metadata": {
    "id": "IuD_fyCmqcxS"
   },
   "outputs": [],
   "source": [
    "def word_drop(text):\n",
    "    text = text.lower()\n",
    "    text = re.sub('\\[.*?\\]', '', text)\n",
    "    text = re.sub(\"\\\\W\",\" \",text) \n",
    "    text = re.sub('https?://\\S+|www\\.\\S+', '', text)\n",
    "    text = re.sub('<.*?>+', '', text)\n",
    "    text = re.sub('[%s]' % re.escape(string.punctuation), '', text)\n",
    "    text = re.sub('\\n', '', text)\n",
    "    text = re.sub('\\w*\\d\\w*', '', text)    \n",
    "    return text"
   ]
  },
  {
   "cell_type": "code",
   "execution_count": 8,
   "metadata": {
    "id": "dQFGOTBbrElW"
   },
   "outputs": [],
   "source": [
    "df_train[\"tweet\"] = df_train[\"tweet\"].apply(word_drop)"
   ]
  },
  {
   "cell_type": "code",
   "execution_count": 9,
   "metadata": {
    "colab": {
     "base_uri": "https://localhost:8080/",
     "height": 142
    },
    "id": "-8cdZx-hrOmg",
    "outputId": "9eb7f350-b971-4418-ff9f-ee1510fd8010"
   },
   "outputs": [
    {
     "data": {
      "text/html": [
       "<div>\n",
       "<style scoped>\n",
       "    .dataframe tbody tr th:only-of-type {\n",
       "        vertical-align: middle;\n",
       "    }\n",
       "\n",
       "    .dataframe tbody tr th {\n",
       "        vertical-align: top;\n",
       "    }\n",
       "\n",
       "    .dataframe thead th {\n",
       "        text-align: right;\n",
       "    }\n",
       "</style>\n",
       "<table border=\"1\" class=\"dataframe\">\n",
       "  <thead>\n",
       "    <tr style=\"text-align: right;\">\n",
       "      <th></th>\n",
       "      <th>tweet</th>\n",
       "      <th>label</th>\n",
       "    </tr>\n",
       "  </thead>\n",
       "  <tbody>\n",
       "    <tr>\n",
       "      <th>0</th>\n",
       "      <td>the cdc currently reports  deaths  in general ...</td>\n",
       "      <td>real</td>\n",
       "    </tr>\n",
       "    <tr>\n",
       "      <th>1</th>\n",
       "      <td>states reported  deaths a small rise from last...</td>\n",
       "      <td>real</td>\n",
       "    </tr>\n",
       "    <tr>\n",
       "      <th>2</th>\n",
       "      <td>politically correct woman  almost  uses pandem...</td>\n",
       "      <td>fake</td>\n",
       "    </tr>\n",
       "  </tbody>\n",
       "</table>\n",
       "</div>"
      ],
      "text/plain": [
       "                                               tweet label\n",
       "0  the cdc currently reports  deaths  in general ...  real\n",
       "1  states reported  deaths a small rise from last...  real\n",
       "2  politically correct woman  almost  uses pandem...  fake"
      ]
     },
     "execution_count": 9,
     "metadata": {},
     "output_type": "execute_result"
    }
   ],
   "source": [
    "df_train.head(3)"
   ]
  },
  {
   "cell_type": "markdown",
   "metadata": {
    "id": "ZK8jAjAwrhi0"
   },
   "source": [
    "- Mapping as fake , reel with {0,1}"
   ]
  },
  {
   "cell_type": "code",
   "execution_count": 10,
   "metadata": {
    "id": "FhZNJsALrXmi"
   },
   "outputs": [],
   "source": [
    "#use map to code label : true as 1 / fake as 0\n",
    "df_train['label'] = df_train['label'].map({'real': 1,'fake': 0})"
   ]
  },
  {
   "cell_type": "code",
   "execution_count": 11,
   "metadata": {
    "colab": {
     "base_uri": "https://localhost:8080/",
     "height": 142
    },
    "id": "CmDSOf7brl5e",
    "outputId": "16ff5f54-2a50-4ee7-e7b2-94d1e58969f9"
   },
   "outputs": [
    {
     "data": {
      "text/html": [
       "<div>\n",
       "<style scoped>\n",
       "    .dataframe tbody tr th:only-of-type {\n",
       "        vertical-align: middle;\n",
       "    }\n",
       "\n",
       "    .dataframe tbody tr th {\n",
       "        vertical-align: top;\n",
       "    }\n",
       "\n",
       "    .dataframe thead th {\n",
       "        text-align: right;\n",
       "    }\n",
       "</style>\n",
       "<table border=\"1\" class=\"dataframe\">\n",
       "  <thead>\n",
       "    <tr style=\"text-align: right;\">\n",
       "      <th></th>\n",
       "      <th>tweet</th>\n",
       "      <th>label</th>\n",
       "    </tr>\n",
       "  </thead>\n",
       "  <tbody>\n",
       "    <tr>\n",
       "      <th>0</th>\n",
       "      <td>the cdc currently reports  deaths  in general ...</td>\n",
       "      <td>1</td>\n",
       "    </tr>\n",
       "    <tr>\n",
       "      <th>1</th>\n",
       "      <td>states reported  deaths a small rise from last...</td>\n",
       "      <td>1</td>\n",
       "    </tr>\n",
       "    <tr>\n",
       "      <th>2</th>\n",
       "      <td>politically correct woman  almost  uses pandem...</td>\n",
       "      <td>0</td>\n",
       "    </tr>\n",
       "  </tbody>\n",
       "</table>\n",
       "</div>"
      ],
      "text/plain": [
       "                                               tweet  label\n",
       "0  the cdc currently reports  deaths  in general ...      1\n",
       "1  states reported  deaths a small rise from last...      1\n",
       "2  politically correct woman  almost  uses pandem...      0"
      ]
     },
     "execution_count": 11,
     "metadata": {},
     "output_type": "execute_result"
    }
   ],
   "source": [
    "df_train.head(3)"
   ]
  },
  {
   "cell_type": "markdown",
   "metadata": {
    "id": "8I-BzJnoyURF"
   },
   "source": [
    "### starting first with countVectorizer"
   ]
  },
  {
   "cell_type": "code",
   "execution_count": 12,
   "metadata": {
    "colab": {
     "base_uri": "https://localhost:8080/"
    },
    "id": "phlf2GnxrscY",
    "outputId": "750ce3e2-c7f9-4fec-f8ce-363ca95a6758"
   },
   "outputs": [
    {
     "data": {
      "text/plain": [
       "0    the cdc currently reports  deaths  in general ...\n",
       "1    states reported  deaths a small rise from last...\n",
       "2    politically correct woman  almost  uses pandem...\n",
       "Name: tweet, dtype: object"
      ]
     },
     "execution_count": 12,
     "metadata": {},
     "output_type": "execute_result"
    }
   ],
   "source": [
    "df_train[\"tweet\"].head(3)"
   ]
  },
  {
   "cell_type": "code",
   "execution_count": 13,
   "metadata": {
    "id": "KLoS4DQ2yYrR"
   },
   "outputs": [],
   "source": [
    "corpus = df_train[\"tweet\"]"
   ]
  },
  {
   "cell_type": "code",
   "execution_count": 14,
   "metadata": {
    "id": "9hIoC0BHyzzl"
   },
   "outputs": [],
   "source": [
    "vectorizer = CountVectorizer(analyzer=\"word\",\n",
    "                             tokenizer=None,\n",
    "                             preprocessor=None,\n",
    "                             stop_words=None,\n",
    "                             max_features=1000,\n",
    "                             ngram_range=(1, 2),\n",
    "                             min_df=1)"
   ]
  },
  {
   "cell_type": "code",
   "execution_count": 15,
   "metadata": {
    "id": "OCgE3RrkzEz3"
   },
   "outputs": [],
   "source": [
    "X = vectorizer.fit_transform(corpus).toarray()"
   ]
  },
  {
   "cell_type": "code",
   "execution_count": 16,
   "metadata": {
    "colab": {
     "base_uri": "https://localhost:8080/"
    },
    "id": "v6IKMd9wzVXQ",
    "outputId": "e056b398-dfa8-4690-aff7-2b1c2fff527c"
   },
   "outputs": [
    {
     "name": "stdout",
     "output_type": "stream",
     "text": [
      "(6420, 1000)\n"
     ]
    }
   ],
   "source": [
    "print(X.shape)"
   ]
  },
  {
   "cell_type": "code",
   "execution_count": 17,
   "metadata": {
    "colab": {
     "base_uri": "https://localhost:8080/"
    },
    "id": "qoLble65zYUW",
    "outputId": "5c8c8848-2e70-43e0-ab77-017dee602ff1"
   },
   "outputs": [
    {
     "data": {
      "text/plain": [
       "array([[0, 0, 0, ..., 0, 0, 0],\n",
       "       [0, 0, 0, ..., 0, 0, 0],\n",
       "       [0, 0, 0, ..., 0, 0, 0],\n",
       "       ...,\n",
       "       [0, 0, 0, ..., 0, 0, 0],\n",
       "       [0, 0, 0, ..., 0, 0, 0],\n",
       "       [0, 0, 0, ..., 0, 0, 1]], dtype=int64)"
      ]
     },
     "execution_count": 17,
     "metadata": {},
     "output_type": "execute_result"
    }
   ],
   "source": [
    "X"
   ]
  },
  {
   "cell_type": "code",
   "execution_count": 18,
   "metadata": {
    "colab": {
     "base_uri": "https://localhost:8080/"
    },
    "id": "nNEmUFdjza1M",
    "outputId": "c6e9c0ee-80ce-4da6-a93c-cd18dd293ec5"
   },
   "outputs": [
    {
     "data": {
      "text/plain": [
       "['abia',\n",
       " 'about',\n",
       " 'about the',\n",
       " 'access',\n",
       " 'access to',\n",
       " 'according',\n",
       " 'according to',\n",
       " 'across',\n",
       " 'across the',\n",
       " 'act',\n",
       " 'active',\n",
       " 'active cases',\n",
       " 'additional',\n",
       " 'affected',\n",
       " 'after',\n",
       " 'again',\n",
       " 'against',\n",
       " 'against covid',\n",
       " 'age',\n",
       " 'air',\n",
       " 'akwa',\n",
       " 'akwa ibom',\n",
       " 'alert',\n",
       " 'alexismadrigal',\n",
       " 'all']"
      ]
     },
     "execution_count": 18,
     "metadata": {},
     "output_type": "execute_result"
    }
   ],
   "source": [
    "# Names of Vectorized Features\n",
    "vectorizer.get_feature_names()[:25]"
   ]
  },
  {
   "cell_type": "code",
   "execution_count": 19,
   "metadata": {
    "colab": {
     "base_uri": "https://localhost:8080/"
    },
    "id": "CpMX9yO3zdtr",
    "outputId": "8d3b633c-a475-44c2-f67f-33dda41275ee"
   },
   "outputs": [
    {
     "name": "stdout",
     "output_type": "stream",
     "text": [
      "corpus size: 1000\n"
     ]
    }
   ],
   "source": [
    "print(\"corpus size: %s\" % len(vectorizer.get_feature_names()))"
   ]
  },
  {
   "cell_type": "code",
   "execution_count": 20,
   "metadata": {
    "colab": {
     "base_uri": "https://localhost:8080/"
    },
    "id": "9qlpDy24ziP9",
    "outputId": "d3981e91-ff3a-4909-b738-9ddb0084185d"
   },
   "outputs": [
    {
     "data": {
      "text/plain": [
       "{1: 0, 0: 1}"
      ]
     },
     "execution_count": 20,
     "metadata": {},
     "output_type": "execute_result"
    }
   ],
   "source": [
    "# Building a Map of Categories =Making Categories Numerical since ML understands numbers better\n",
    "categories = df_train[\"label\"].unique()\n",
    "category_dict = {value:index for index, value in enumerate(categories)}\n",
    "results = df_train[\"label\"].map(category_dict)\n",
    "category_dict"
   ]
  },
  {
   "cell_type": "code",
   "execution_count": 21,
   "metadata": {
    "colab": {
     "base_uri": "https://localhost:8080/"
    },
    "id": "AL2xEFs2z4Da",
    "outputId": "be36bb9a-1256-4fec-f84c-273e30c87b12"
   },
   "outputs": [
    {
     "data": {
      "text/plain": [
       "0       0\n",
       "1       0\n",
       "2       1\n",
       "3       0\n",
       "4       0\n",
       "       ..\n",
       "6415    1\n",
       "6416    1\n",
       "6417    1\n",
       "6418    1\n",
       "6419    0\n",
       "Name: label, Length: 6420, dtype: int64"
      ]
     },
     "execution_count": 21,
     "metadata": {},
     "output_type": "execute_result"
    }
   ],
   "source": [
    "results"
   ]
  },
  {
   "cell_type": "code",
   "execution_count": 22,
   "metadata": {
    "id": "_Dwjz4eD0HBR"
   },
   "outputs": [],
   "source": [
    "# Split Dataset into Test and Training Data\n",
    "x_train,x_test, y_train,y_test = train_test_split(X, results, test_size=0.2)"
   ]
  },
  {
   "cell_type": "code",
   "execution_count": 23,
   "metadata": {
    "colab": {
     "base_uri": "https://localhost:8080/"
    },
    "id": "fQBrchl70c3L",
    "outputId": "28320595-16d5-45b3-f81d-809358af900f"
   },
   "outputs": [
    {
     "data": {
      "text/plain": [
       "LogisticRegression(max_iter=1000)"
      ]
     },
     "execution_count": 23,
     "metadata": {},
     "output_type": "execute_result"
    }
   ],
   "source": [
    "# Using LR Multinomial Classifier\n",
    "LR = LogisticRegression(max_iter=1000)\n",
    "LR.fit(x_train, y_train)"
   ]
  },
  {
   "cell_type": "code",
   "execution_count": 24,
   "metadata": {
    "colab": {
     "base_uri": "https://localhost:8080/"
    },
    "id": "5TYyB3lh0wlQ",
    "outputId": "3036c93a-6d47-4d67-ce3c-c07bce0f13d7"
   },
   "outputs": [
    {
     "name": "stdout",
     "output_type": "stream",
     "text": [
      "Accuracy of our model score:  0.9042056074766355\n"
     ]
    }
   ],
   "source": [
    "print(\"Accuracy of our model score: \",LR.score(x_test, y_test))"
   ]
  },
  {
   "cell_type": "code",
   "execution_count": 25,
   "metadata": {
    "colab": {
     "base_uri": "https://localhost:8080/"
    },
    "id": "bCXqi_2V0z96",
    "outputId": "d44900f2-f170-46aa-c840-008219962078"
   },
   "outputs": [
    {
     "data": {
      "text/plain": [
       "array([1, 1, 1, ..., 0, 0, 1], dtype=int64)"
      ]
     },
     "execution_count": 25,
     "metadata": {},
     "output_type": "execute_result"
    }
   ],
   "source": [
    "LR.predict(x_test)"
   ]
  },
  {
   "cell_type": "code",
   "execution_count": 26,
   "metadata": {
    "colab": {
     "base_uri": "https://localhost:8080/"
    },
    "id": "u5j9Nj791FRG",
    "outputId": "343b847d-daef-48a6-92b4-ce7d14b449b4"
   },
   "outputs": [
    {
     "data": {
      "text/plain": [
       "{1: 0, 0: 1}"
      ]
     },
     "execution_count": 26,
     "metadata": {},
     "output_type": "execute_result"
    }
   ],
   "source": [
    "category_dict \n",
    "#1: reel \\ 0: fake"
   ]
  },
  {
   "cell_type": "code",
   "execution_count": 27,
   "metadata": {
    "id": "h-iznmjT1H6s"
   },
   "outputs": [],
   "source": [
    "text = [\"Russian Hackers hijack US Election \"]"
   ]
  },
  {
   "cell_type": "code",
   "execution_count": 28,
   "metadata": {
    "id": "Vl06gHne1Z8Z"
   },
   "outputs": [],
   "source": [
    "# Vectorize and Transform text\n",
    "vec_text = vectorizer.transform(text).toarray()"
   ]
  },
  {
   "cell_type": "code",
   "execution_count": 29,
   "metadata": {
    "colab": {
     "base_uri": "https://localhost:8080/"
    },
    "id": "gPN2v47g1dIE",
    "outputId": "2a45129e-5484-42b5-f80e-d8c662c3fae2"
   },
   "outputs": [
    {
     "data": {
      "text/plain": [
       "array([1], dtype=int64)"
      ]
     },
     "execution_count": 29,
     "metadata": {},
     "output_type": "execute_result"
    }
   ],
   "source": [
    "#Predict\n",
    "LR.predict(vec_text)"
   ]
  },
  {
   "cell_type": "code",
   "execution_count": 30,
   "metadata": {
    "id": "5gZ3vuk81fPo"
   },
   "outputs": [],
   "source": [
    "# A function to do it\n",
    "def classclass(a):\n",
    "    test_name1 = [a]\n",
    "    transform_vect =vectorizer.transform(text).toarray()\n",
    "    if LR.predict(transform_vect) == 0:\n",
    "        print(\"FAKE\")\n",
    "    else:\n",
    "        print(\"REEL\")"
   ]
  },
  {
   "cell_type": "code",
   "execution_count": 31,
   "metadata": {
    "colab": {
     "base_uri": "https://localhost:8080/"
    },
    "id": "OJ-BZKiM1ugh",
    "outputId": "9470d949-238d-4da2-c6a7-c7733eb884a5"
   },
   "outputs": [
    {
     "name": "stdout",
     "output_type": "stream",
     "text": [
      "REEL\n"
     ]
    }
   ],
   "source": [
    "classclass(\"shit \")"
   ]
  },
  {
   "cell_type": "code",
   "execution_count": 32,
   "metadata": {
    "colab": {
     "base_uri": "https://localhost:8080/"
    },
    "id": "IRRVdmKf11di",
    "outputId": "b94e6c68-f2ff-4632-d527-b028be9bc66a"
   },
   "outputs": [
    {
     "data": {
      "text/plain": [
       "MultinomialNB()"
      ]
     },
     "execution_count": 32,
     "metadata": {},
     "output_type": "execute_result"
    }
   ],
   "source": [
    "clf = MultinomialNB()\n",
    "clf.fit(x_train, y_train)"
   ]
  },
  {
   "cell_type": "code",
   "execution_count": 33,
   "metadata": {
    "id": "-edNZhlM2501"
   },
   "outputs": [],
   "source": [
    "# A function to do it\n",
    "def classclass(a):\n",
    "    test_name1 = [a]\n",
    "    transform_vect =vectorizer.transform(text).toarray()\n",
    "    if clf.predict(transform_vect) == 0:\n",
    "        print(\"FAKE\")\n",
    "    else:\n",
    "        print(\"REEL\")"
   ]
  },
  {
   "cell_type": "code",
   "execution_count": 34,
   "metadata": {
    "colab": {
     "base_uri": "https://localhost:8080/"
    },
    "id": "ylqXDy8f3Kxd",
    "outputId": "da46b976-b706-4749-9f03-6c7d7b334375"
   },
   "outputs": [
    {
     "name": "stdout",
     "output_type": "stream",
     "text": [
      "REEL\n"
     ]
    }
   ],
   "source": [
    "classclass(\"A post claims compulsory vacination violates the principles of bioethics, that coronavirus doesnÃ¢â‚¬â„¢t exist, that the PCR test returns many false positives, and that influenza vaccine is related to COVID-19. \")"
   ]
  },
  {
   "cell_type": "markdown",
   "metadata": {
    "id": "fakHnsOm3f_8"
   },
   "source": [
    "try with vectorizer"
   ]
  },
  {
   "cell_type": "code",
   "execution_count": 35,
   "metadata": {
    "id": "xczoOG0B3MJ4"
   },
   "outputs": [],
   "source": [
    "vectorizer1 = TfidfVectorizer(analyzer=\"word\",\n",
    "                             tokenizer=None,\n",
    "                             preprocessor=None,\n",
    "                             stop_words=None,\n",
    "                             max_features=1000,\n",
    "                             ngram_range=(1, 2),\n",
    "                             min_df=1)"
   ]
  },
  {
   "cell_type": "code",
   "execution_count": 36,
   "metadata": {
    "id": "G4xr08o53zfT"
   },
   "outputs": [],
   "source": [
    "X1 = vectorizer1.fit_transform(corpus).toarray()"
   ]
  },
  {
   "cell_type": "code",
   "execution_count": 37,
   "metadata": {
    "colab": {
     "base_uri": "https://localhost:8080/"
    },
    "id": "K2euGdf037Ht",
    "outputId": "c8d6a11d-cbb9-4e49-e2f6-d526b51153ab"
   },
   "outputs": [
    {
     "name": "stdout",
     "output_type": "stream",
     "text": [
      "(6420, 1000)\n"
     ]
    }
   ],
   "source": [
    "print(X1.shape)"
   ]
  },
  {
   "cell_type": "code",
   "execution_count": 38,
   "metadata": {
    "colab": {
     "base_uri": "https://localhost:8080/"
    },
    "id": "YGGgkVqh3-Yi",
    "outputId": "54c01b42-e3ab-4038-99bb-b3dcd86a5620"
   },
   "outputs": [
    {
     "data": {
      "text/plain": [
       "['abia',\n",
       " 'about',\n",
       " 'about the',\n",
       " 'access',\n",
       " 'access to',\n",
       " 'according',\n",
       " 'according to',\n",
       " 'across',\n",
       " 'across the',\n",
       " 'act',\n",
       " 'active',\n",
       " 'active cases',\n",
       " 'additional',\n",
       " 'affected',\n",
       " 'after',\n",
       " 'again',\n",
       " 'against',\n",
       " 'against covid',\n",
       " 'age',\n",
       " 'air',\n",
       " 'akwa',\n",
       " 'akwa ibom',\n",
       " 'alert',\n",
       " 'alexismadrigal',\n",
       " 'all']"
      ]
     },
     "execution_count": 38,
     "metadata": {},
     "output_type": "execute_result"
    }
   ],
   "source": [
    "vectorizer1.get_feature_names()[:25]"
   ]
  },
  {
   "cell_type": "code",
   "execution_count": 39,
   "metadata": {
    "id": "dvsqq7RI4JzF"
   },
   "outputs": [],
   "source": [
    "# Split Dataset into Test and Training Data\n",
    "x_train,x_test, y_train,y_test = train_test_split(X1, results, test_size=0.2)"
   ]
  },
  {
   "cell_type": "code",
   "execution_count": 40,
   "metadata": {
    "colab": {
     "base_uri": "https://localhost:8080/"
    },
    "id": "rf_HjFZm4UzP",
    "outputId": "711a37a0-6b96-4415-b86a-cc6ae8cd5860"
   },
   "outputs": [
    {
     "data": {
      "text/plain": [
       "LogisticRegression(max_iter=1000)"
      ]
     },
     "execution_count": 40,
     "metadata": {},
     "output_type": "execute_result"
    }
   ],
   "source": [
    "LR = LogisticRegression(max_iter=1000)\n",
    "LR.fit(x_train, y_train)"
   ]
  },
  {
   "cell_type": "code",
   "execution_count": 41,
   "metadata": {
    "colab": {
     "base_uri": "https://localhost:8080/"
    },
    "id": "Sve3y8zS4XZo",
    "outputId": "e693b958-a3b9-40e4-bf43-6c414006f65c"
   },
   "outputs": [
    {
     "data": {
      "text/plain": [
       "array([0, 0, 0, ..., 1, 0, 1], dtype=int64)"
      ]
     },
     "execution_count": 41,
     "metadata": {},
     "output_type": "execute_result"
    }
   ],
   "source": [
    "LR.predict(x_test)"
   ]
  },
  {
   "cell_type": "code",
   "execution_count": 42,
   "metadata": {
    "id": "jqGAQqb44b20"
   },
   "outputs": [],
   "source": [
    "# A function to do it\n",
    "def classclass1(a):\n",
    "    test_name1 = [a]\n",
    "    transform_vect =vectorizer1.transform(text).toarray()\n",
    "    if LR.predict(transform_vect) == 0:\n",
    "        print(\"FAKE\")\n",
    "    else:\n",
    "        print(\"REEL\")"
   ]
  },
  {
   "cell_type": "code",
   "execution_count": 43,
   "metadata": {
    "colab": {
     "base_uri": "https://localhost:8080/"
    },
    "id": "UClqV3Uj4hbj",
    "outputId": "5bff7070-d620-4967-f35a-7b1796b81548"
   },
   "outputs": [
    {
     "name": "stdout",
     "output_type": "stream",
     "text": [
      "REEL\n"
     ]
    }
   ],
   "source": [
    "classclass1(\"A post claims compulsory vacination violates the principles of bioethics, that coronavirus doesnÃ¢â‚¬â„¢t exist, that the PCR test returns many false positives, and that influenza vaccine is related to COVID-19. \")"
   ]
  },
  {
   "cell_type": "code",
   "execution_count": 44,
   "metadata": {
    "id": "1NquZ-x_4k2T"
   },
   "outputs": [],
   "source": [
    "pickle.dump(vectorizer, open(\"vector.pkl\", \"wb\"))"
   ]
  },
  {
   "cell_type": "code",
   "execution_count": 45,
   "metadata": {
    "id": "Gbm0T9dD-ebj"
   },
   "outputs": [],
   "source": [
    "def findlabel(newtext):\n",
    "    vec_newtest=vectorizer1.transform([newtext])\n",
    "    y_pred1=LR.predict(vec_newtest)\n",
    "    return y_pred1[0]"
   ]
  },
  {
   "cell_type": "code",
   "execution_count": 46,
   "metadata": {
    "colab": {
     "base_uri": "https://localhost:8080/"
    },
    "id": "eTk-wAJ1P5Yo",
    "outputId": "401ce340-e381-463f-ef24-b6bd82cb3d51"
   },
   "outputs": [
    {
     "data": {
      "text/plain": [
       "1"
      ]
     },
     "execution_count": 46,
     "metadata": {},
     "output_type": "execute_result"
    }
   ],
   "source": [
    "findlabel((df_test['tweet'][1]))\n",
    "#findlabel((\"A post claims compulsory vacination violates the principles of bioethics, that coronavirus doesnÃ¢â‚¬â„¢t exist, that the PCR test returns many false positives, and that influenza vaccine is related to COVID-19. \")) \n",
    "#0 => fake\n",
    "#1 => true"
   ]
  },
  {
   "cell_type": "code",
   "execution_count": 47,
   "metadata": {
    "colab": {
     "base_uri": "https://localhost:8080/"
    },
    "id": "CNR1STGUP-3B",
    "outputId": "aaa12a59-9310-4a6b-a14b-00beabefbcd9"
   },
   "outputs": [
    {
     "data": {
      "text/plain": [
       "1"
      ]
     },
     "execution_count": 47,
     "metadata": {},
     "output_type": "execute_result"
    }
   ],
   "source": [
    "findlabel((\" covid isn't bad \")) "
   ]
  },
  {
   "cell_type": "code",
   "execution_count": 48,
   "metadata": {
    "colab": {
     "base_uri": "https://localhost:8080/",
     "height": 142
    },
    "id": "kXKYuUISQJB7",
    "outputId": "e969c56b-11d7-444a-9b63-41bfbf6e938f"
   },
   "outputs": [
    {
     "data": {
      "text/html": [
       "<div>\n",
       "<style scoped>\n",
       "    .dataframe tbody tr th:only-of-type {\n",
       "        vertical-align: middle;\n",
       "    }\n",
       "\n",
       "    .dataframe tbody tr th {\n",
       "        vertical-align: top;\n",
       "    }\n",
       "\n",
       "    .dataframe thead th {\n",
       "        text-align: right;\n",
       "    }\n",
       "</style>\n",
       "<table border=\"1\" class=\"dataframe\">\n",
       "  <thead>\n",
       "    <tr style=\"text-align: right;\">\n",
       "      <th></th>\n",
       "      <th>id</th>\n",
       "      <th>tweet</th>\n",
       "      <th>label</th>\n",
       "    </tr>\n",
       "  </thead>\n",
       "  <tbody>\n",
       "    <tr>\n",
       "      <th>0</th>\n",
       "      <td>1</td>\n",
       "      <td>Our daily update is published. States reported...</td>\n",
       "      <td>real</td>\n",
       "    </tr>\n",
       "    <tr>\n",
       "      <th>1</th>\n",
       "      <td>2</td>\n",
       "      <td>Alfalfa is the only cure for COVID-19.</td>\n",
       "      <td>fake</td>\n",
       "    </tr>\n",
       "    <tr>\n",
       "      <th>2</th>\n",
       "      <td>3</td>\n",
       "      <td>President Trump Asked What He Would Do If He W...</td>\n",
       "      <td>fake</td>\n",
       "    </tr>\n",
       "  </tbody>\n",
       "</table>\n",
       "</div>"
      ],
      "text/plain": [
       "   id                                              tweet label\n",
       "0   1  Our daily update is published. States reported...  real\n",
       "1   2             Alfalfa is the only cure for COVID-19.  fake\n",
       "2   3  President Trump Asked What He Would Do If He W...  fake"
      ]
     },
     "execution_count": 48,
     "metadata": {},
     "output_type": "execute_result"
    }
   ],
   "source": [
    "df_test.head(3)"
   ]
  },
  {
   "cell_type": "code",
   "execution_count": 49,
   "metadata": {
    "id": "CIctMzdxQ0bH"
   },
   "outputs": [],
   "source": [
    "pickle.dump(vectorizer1, open(\"vector1.pkl\", \"wb\"))"
   ]
  },
  {
   "cell_type": "code",
   "execution_count": null,
   "metadata": {},
   "outputs": [],
   "source": [
    "# Save the Modle to file in the current working directory\n",
    "\n",
    "Pkl_Filename = \"Pickle_LR_Model.pkl\"  \n",
    "\n",
    "with open(Pkl_Filename, 'wb') as file:  \n",
    "    pickle.dump(LR_Model, file)"
   ]
  },
  {
   "cell_type": "code",
   "execution_count": 50,
   "metadata": {},
   "outputs": [],
   "source": [
    "pickle.dump(LR, open(\"Pickle_LR_Model.pkl\", \"wb\"))"
   ]
  },
  {
   "cell_type": "code",
   "execution_count": null,
   "metadata": {},
   "outputs": [],
   "source": []
  }
 ],
 "metadata": {
  "colab": {
   "name": "StreamlitGUI.ipynb",
   "provenance": []
  },
  "kernelspec": {
   "display_name": "Python 3",
   "language": "python",
   "name": "python3"
  },
  "language_info": {
   "codemirror_mode": {
    "name": "ipython",
    "version": 3
   },
   "file_extension": ".py",
   "mimetype": "text/x-python",
   "name": "python",
   "nbconvert_exporter": "python",
   "pygments_lexer": "ipython3",
   "version": "3.8.5"
  },
  "varInspector": {
   "cols": {
    "lenName": 16,
    "lenType": 16,
    "lenVar": 40
   },
   "kernels_config": {
    "python": {
     "delete_cmd_postfix": "",
     "delete_cmd_prefix": "del ",
     "library": "var_list.py",
     "varRefreshCmd": "print(var_dic_list())"
    },
    "r": {
     "delete_cmd_postfix": ") ",
     "delete_cmd_prefix": "rm(",
     "library": "var_list.r",
     "varRefreshCmd": "cat(var_dic_list()) "
    }
   },
   "types_to_exclude": [
    "module",
    "function",
    "builtin_function_or_method",
    "instance",
    "_Feature"
   ],
   "window_display": false
  }
 },
 "nbformat": 4,
 "nbformat_minor": 1
}
